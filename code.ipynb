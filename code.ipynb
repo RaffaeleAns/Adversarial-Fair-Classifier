{
  "nbformat": 4,
  "nbformat_minor": 0,
  "metadata": {
    "kernelspec": {
      "display_name": "Python 3",
      "language": "python",
      "name": "python3"
    },
    "language_info": {
      "codemirror_mode": {
        "name": "ipython",
        "version": 3
      },
      "file_extension": ".py",
      "mimetype": "text/x-python",
      "name": "python",
      "nbconvert_exporter": "python",
      "pygments_lexer": "ipython3",
      "version": "3.7.3"
    },
    "colab": {
      "name": "Adult CAN.ipynb",
      "provenance": []
    }
  },
  "cells": [
    {
      "cell_type": "markdown",
      "metadata": {
        "id": "GJdOkFI0BkqP",
        "colab_type": "text"
      },
      "source": [
        "# Fair Classification with Adversarial Debiasing\n",
        "\n",
        "## Advanced Machine Learning - Exam Project\n",
        "\n",
        "Raffaele Anselmo - 846842 - r.anselmo@campus.unimb.it\n",
        "\n",
        "Lorenzo Pastore - 847212 - l.pastore6@campus.unimib.it"
      ]
    },
    {
      "cell_type": "markdown",
      "metadata": {
        "id": "RA2kasntBkqQ",
        "colab_type": "text"
      },
      "source": [
        "## Import Libraries"
      ]
    },
    {
      "cell_type": "code",
      "metadata": {
        "id": "pPOp_XaKBkqQ",
        "colab_type": "code",
        "colab": {}
      },
      "source": [
        "import pandas as pd\n",
        "import numpy as np\n",
        "import seaborn as sns \n",
        "import matplotlib.pyplot as plt \n",
        "\n",
        "from IPython import display\n",
        "from sklearn.utils.class_weight import compute_class_weight\n",
        "import keras\n",
        "from keras.models import Sequential, Model\n",
        "from keras.layers import Dropout, Dense, Input\n",
        "from keras.optimizers import Adam\n",
        "from keras.utils import plot_model\n",
        "from keras.callbacks import EarlyStopping\n",
        "import matplotlib.pyplot as plt\n",
        "from sklearn.model_selection import train_test_split\n",
        "from sklearn.preprocessing import StandardScaler\n",
        "from sklearn.metrics import accuracy_score, confusion_matrix, roc_auc_score\n",
        "\n",
        "from collections import Counter\n",
        "from matplotlib.lines import Line2D"
      ],
      "execution_count": 0,
      "outputs": []
    },
    {
      "cell_type": "code",
      "metadata": {
        "id": "Bc7u8sflBkqV",
        "colab_type": "code",
        "colab": {}
      },
      "source": [
        "from sklearn.metrics import classification_report, confusion_matrix"
      ],
      "execution_count": 0,
      "outputs": []
    },
    {
      "cell_type": "code",
      "metadata": {
        "id": "achN2AFVB-hf",
        "colab_type": "code",
        "colab": {}
      },
      "source": [
        "#Installing SMAC\n",
        "!apt-get install swig\n",
        "!pip install smac[all]  "
      ],
      "execution_count": 0,
      "outputs": []
    },
    {
      "cell_type": "code",
      "metadata": {
        "id": "ALkU_Rj-CJjz",
        "colab_type": "code",
        "colab": {}
      },
      "source": [
        "from smac.facade.func_facade import fmin_smac\n",
        "from smac.facade.smac_hpo_facade import SMAC4HPO #Bayesian optimization using a Random Forest\n",
        "\n",
        "# Import ConfigSpace and different types of parameters\n",
        "from smac.configspace import ConfigurationSpace\n",
        "from ConfigSpace.hyperparameters import CategoricalHyperparameter, \\\n",
        "    UniformFloatHyperparameter, UniformIntegerHyperparameter\n",
        "from ConfigSpace.conditions import InCondition\n",
        "from smac.configspace.util import convert_configurations_to_array\n",
        "\n",
        "# Import SMAC-utilities\n",
        "from smac.tae.execute_func import ExecuteTAFuncDict\n",
        "from smac.scenario.scenario import Scenario\n",
        "from smac.optimizer.acquisition import EI, LCB\n",
        "from smac.initial_design.initial_design import InitialDesign\n",
        "from smac.initial_design.random_configuration_design import RandomConfigurations"
      ],
      "execution_count": 0,
      "outputs": []
    },
    {
      "cell_type": "code",
      "metadata": {
        "id": "NcUlTVL5CMou",
        "colab_type": "code",
        "colab": {}
      },
      "source": [
        "# Import utilities\n",
        "import logging\n",
        "logging.basicConfig(level=logging.INFO)\n",
        "logging.captureWarnings(capture=True)\n",
        "logger = logging.getLogger(\"py.warnings\")\n",
        "handler = logging.StreamHandler()\n",
        "logger.addHandler(handler)\n",
        "logger.addFilter(lambda record: \"ConvergenceWarning\" not in record.getMessage())\n",
        "\n",
        "import warnings\n",
        "warnings.filterwarnings(\"ignore\")\n",
        "\n",
        "import time"
      ],
      "execution_count": 0,
      "outputs": []
    },
    {
      "cell_type": "markdown",
      "metadata": {
        "id": "azflRaHQBkqY",
        "colab_type": "text"
      },
      "source": [
        "## Data Loading"
      ]
    },
    {
      "cell_type": "code",
      "metadata": {
        "id": "V8D1dEbbBkqZ",
        "colab_type": "code",
        "colab": {}
      },
      "source": [
        "path = \"http://archive.ics.uci.edu/ml/machine-learning-databases/adult/adult.data\""
      ],
      "execution_count": 0,
      "outputs": []
    },
    {
      "cell_type": "code",
      "metadata": {
        "id": "FE8OxXPnBkqb",
        "colab_type": "code",
        "colab": {}
      },
      "source": [
        "def load_df(path):\n",
        "    \n",
        "    col_names=['age', 'workclass', 'fnlwgt', 'education', 'education_num', \n",
        "                    'marital_status', 'occupation', 'relationship', 'race', 'sex', \n",
        "                    'capital_gain', 'capital_loss', 'hours_per_week', 'country', 'target']\n",
        "    \n",
        "    df = (pd.read_csv(path, \n",
        "                 engine = 'python',\n",
        "                 sep=r'\\s*,\\s*', \n",
        "                 names=col_names,\n",
        "                 na_values=\"?\").loc[lambda df: df['race'].isin(['White', 'Black'])])\n",
        "    \n",
        "    df['race'] = (df['race'] == 'White').astype(int)\n",
        "    df['sex'] = (df['sex'] == 'Male').astype(int)\n",
        "    \n",
        "   \n",
        "    df.dropna(subset=[\"occupation\", \"country\"], inplace=True)\n",
        "\n",
        "\n",
        "    # Sensitive Attributes - Z -\n",
        "    protected = [\"race\", \"sex\"]\n",
        "    Z = (df.loc[:, protected])\n",
        "    \n",
        "    # Target - y - \n",
        "    df[\"y\"] = (df[\"target\"] == '>50K').astype(int)\n",
        "    df.drop(\"target\", axis = 1, inplace=True)\n",
        "    y = df[\"y\"]\n",
        "    \n",
        "    # Features - X - \n",
        "    X = (df.drop(columns=['y', 'race', 'sex']))\n",
        "    \n",
        "    print(f\"features X: {X.shape[0]} samples, {X.shape[1]} attributes\")\n",
        "    print(f\"targets y: {y.shape[0]} samples\")\n",
        "    print(f\"sensitives Z: {Z.shape[0]} samples, {Z.shape[1]} attributes\")\n",
        "    \n",
        "    return X, y, Z\n",
        "    "
      ],
      "execution_count": 0,
      "outputs": []
    },
    {
      "cell_type": "code",
      "metadata": {
        "scrolled": true,
        "id": "ptTmw6KaBkqe",
        "colab_type": "code",
        "outputId": "d4f97b43-df6c-4a3b-f5a5-1d2309686e39",
        "colab": {
          "base_uri": "https://localhost:8080/",
          "height": 68
        }
      },
      "source": [
        "X, y, Z = load_df(path)"
      ],
      "execution_count": 0,
      "outputs": [
        {
          "output_type": "stream",
          "text": [
            "features X: 28750 samples, 12 attributes\n",
            "targets y: 28750 samples\n",
            "sensitives Z: 28750 samples, 2 attributes\n"
          ],
          "name": "stdout"
        }
      ]
    },
    {
      "cell_type": "markdown",
      "metadata": {
        "id": "KapoWGBXkRdA",
        "colab_type": "text"
      },
      "source": [
        "## EDA"
      ]
    },
    {
      "cell_type": "code",
      "metadata": {
        "scrolled": true,
        "id": "BXW9gPsLBkqh",
        "colab_type": "code",
        "outputId": "d535d968-6981-49ca-f56d-b34505a1f7e2",
        "colab": {
          "base_uri": "https://localhost:8080/",
          "height": 309
        }
      },
      "source": [
        "X.head()"
      ],
      "execution_count": 0,
      "outputs": [
        {
          "output_type": "execute_result",
          "data": {
            "text/html": [
              "<div>\n",
              "<style scoped>\n",
              "    .dataframe tbody tr th:only-of-type {\n",
              "        vertical-align: middle;\n",
              "    }\n",
              "\n",
              "    .dataframe tbody tr th {\n",
              "        vertical-align: top;\n",
              "    }\n",
              "\n",
              "    .dataframe thead th {\n",
              "        text-align: right;\n",
              "    }\n",
              "</style>\n",
              "<table border=\"1\" class=\"dataframe\">\n",
              "  <thead>\n",
              "    <tr style=\"text-align: right;\">\n",
              "      <th></th>\n",
              "      <th>age</th>\n",
              "      <th>workclass</th>\n",
              "      <th>fnlwgt</th>\n",
              "      <th>education</th>\n",
              "      <th>education_num</th>\n",
              "      <th>marital_status</th>\n",
              "      <th>occupation</th>\n",
              "      <th>relationship</th>\n",
              "      <th>capital_gain</th>\n",
              "      <th>capital_loss</th>\n",
              "      <th>hours_per_week</th>\n",
              "      <th>country</th>\n",
              "    </tr>\n",
              "  </thead>\n",
              "  <tbody>\n",
              "    <tr>\n",
              "      <th>0</th>\n",
              "      <td>39</td>\n",
              "      <td>State-gov</td>\n",
              "      <td>77516</td>\n",
              "      <td>Bachelors</td>\n",
              "      <td>13</td>\n",
              "      <td>Never-married</td>\n",
              "      <td>Adm-clerical</td>\n",
              "      <td>Not-in-family</td>\n",
              "      <td>2174</td>\n",
              "      <td>0</td>\n",
              "      <td>40</td>\n",
              "      <td>United-States</td>\n",
              "    </tr>\n",
              "    <tr>\n",
              "      <th>1</th>\n",
              "      <td>50</td>\n",
              "      <td>Self-emp-not-inc</td>\n",
              "      <td>83311</td>\n",
              "      <td>Bachelors</td>\n",
              "      <td>13</td>\n",
              "      <td>Married-civ-spouse</td>\n",
              "      <td>Exec-managerial</td>\n",
              "      <td>Husband</td>\n",
              "      <td>0</td>\n",
              "      <td>0</td>\n",
              "      <td>13</td>\n",
              "      <td>United-States</td>\n",
              "    </tr>\n",
              "    <tr>\n",
              "      <th>2</th>\n",
              "      <td>38</td>\n",
              "      <td>Private</td>\n",
              "      <td>215646</td>\n",
              "      <td>HS-grad</td>\n",
              "      <td>9</td>\n",
              "      <td>Divorced</td>\n",
              "      <td>Handlers-cleaners</td>\n",
              "      <td>Not-in-family</td>\n",
              "      <td>0</td>\n",
              "      <td>0</td>\n",
              "      <td>40</td>\n",
              "      <td>United-States</td>\n",
              "    </tr>\n",
              "    <tr>\n",
              "      <th>3</th>\n",
              "      <td>53</td>\n",
              "      <td>Private</td>\n",
              "      <td>234721</td>\n",
              "      <td>11th</td>\n",
              "      <td>7</td>\n",
              "      <td>Married-civ-spouse</td>\n",
              "      <td>Handlers-cleaners</td>\n",
              "      <td>Husband</td>\n",
              "      <td>0</td>\n",
              "      <td>0</td>\n",
              "      <td>40</td>\n",
              "      <td>United-States</td>\n",
              "    </tr>\n",
              "    <tr>\n",
              "      <th>4</th>\n",
              "      <td>28</td>\n",
              "      <td>Private</td>\n",
              "      <td>338409</td>\n",
              "      <td>Bachelors</td>\n",
              "      <td>13</td>\n",
              "      <td>Married-civ-spouse</td>\n",
              "      <td>Prof-specialty</td>\n",
              "      <td>Wife</td>\n",
              "      <td>0</td>\n",
              "      <td>0</td>\n",
              "      <td>40</td>\n",
              "      <td>Cuba</td>\n",
              "    </tr>\n",
              "  </tbody>\n",
              "</table>\n",
              "</div>"
            ],
            "text/plain": [
              "   age         workclass  fnlwgt  ... capital_loss  hours_per_week        country\n",
              "0   39         State-gov   77516  ...            0              40  United-States\n",
              "1   50  Self-emp-not-inc   83311  ...            0              13  United-States\n",
              "2   38           Private  215646  ...            0              40  United-States\n",
              "3   53           Private  234721  ...            0              40  United-States\n",
              "4   28           Private  338409  ...            0              40           Cuba\n",
              "\n",
              "[5 rows x 12 columns]"
            ]
          },
          "metadata": {
            "tags": []
          },
          "execution_count": 9
        }
      ]
    },
    {
      "cell_type": "code",
      "metadata": {
        "id": "wvRtXtkrBkqj",
        "colab_type": "code",
        "outputId": "7f52dac8-fce4-4117-8452-07855951cc87",
        "colab": {
          "base_uri": "https://localhost:8080/",
          "height": 340
        }
      },
      "source": [
        "X.info()"
      ],
      "execution_count": 0,
      "outputs": [
        {
          "output_type": "stream",
          "text": [
            "<class 'pandas.core.frame.DataFrame'>\n",
            "Int64Index: 28750 entries, 0 to 32560\n",
            "Data columns (total 12 columns):\n",
            " #   Column          Non-Null Count  Dtype \n",
            "---  ------          --------------  ----- \n",
            " 0   age             28750 non-null  int64 \n",
            " 1   workclass       28750 non-null  object\n",
            " 2   fnlwgt          28750 non-null  int64 \n",
            " 3   education       28750 non-null  object\n",
            " 4   education_num   28750 non-null  int64 \n",
            " 5   marital_status  28750 non-null  object\n",
            " 6   occupation      28750 non-null  object\n",
            " 7   relationship    28750 non-null  object\n",
            " 8   capital_gain    28750 non-null  int64 \n",
            " 9   capital_loss    28750 non-null  int64 \n",
            " 10  hours_per_week  28750 non-null  int64 \n",
            " 11  country         28750 non-null  object\n",
            "dtypes: int64(6), object(6)\n",
            "memory usage: 2.9+ MB\n"
          ],
          "name": "stdout"
        }
      ]
    },
    {
      "cell_type": "code",
      "metadata": {
        "scrolled": true,
        "id": "Ts8Zwqq4Bkqm",
        "colab_type": "code",
        "outputId": "a2398ed1-1009-4fcb-8e2f-520616334772",
        "colab": {
          "base_uri": "https://localhost:8080/",
          "height": 204
        }
      },
      "source": [
        "Z.head()"
      ],
      "execution_count": 0,
      "outputs": [
        {
          "output_type": "execute_result",
          "data": {
            "text/html": [
              "<div>\n",
              "<style scoped>\n",
              "    .dataframe tbody tr th:only-of-type {\n",
              "        vertical-align: middle;\n",
              "    }\n",
              "\n",
              "    .dataframe tbody tr th {\n",
              "        vertical-align: top;\n",
              "    }\n",
              "\n",
              "    .dataframe thead th {\n",
              "        text-align: right;\n",
              "    }\n",
              "</style>\n",
              "<table border=\"1\" class=\"dataframe\">\n",
              "  <thead>\n",
              "    <tr style=\"text-align: right;\">\n",
              "      <th></th>\n",
              "      <th>race</th>\n",
              "      <th>sex</th>\n",
              "    </tr>\n",
              "  </thead>\n",
              "  <tbody>\n",
              "    <tr>\n",
              "      <th>0</th>\n",
              "      <td>1</td>\n",
              "      <td>1</td>\n",
              "    </tr>\n",
              "    <tr>\n",
              "      <th>1</th>\n",
              "      <td>1</td>\n",
              "      <td>1</td>\n",
              "    </tr>\n",
              "    <tr>\n",
              "      <th>2</th>\n",
              "      <td>1</td>\n",
              "      <td>1</td>\n",
              "    </tr>\n",
              "    <tr>\n",
              "      <th>3</th>\n",
              "      <td>0</td>\n",
              "      <td>1</td>\n",
              "    </tr>\n",
              "    <tr>\n",
              "      <th>4</th>\n",
              "      <td>0</td>\n",
              "      <td>0</td>\n",
              "    </tr>\n",
              "  </tbody>\n",
              "</table>\n",
              "</div>"
            ],
            "text/plain": [
              "   race  sex\n",
              "0     1    1\n",
              "1     1    1\n",
              "2     1    1\n",
              "3     0    1\n",
              "4     0    0"
            ]
          },
          "metadata": {
            "tags": []
          },
          "execution_count": 11
        }
      ]
    },
    {
      "cell_type": "code",
      "metadata": {
        "id": "wtYyMoCFBkqo",
        "colab_type": "code",
        "outputId": "149ed78d-0fa2-48d8-edc5-d9e4f7d05905",
        "colab": {
          "base_uri": "https://localhost:8080/",
          "height": 170
        }
      },
      "source": [
        "Z.info()"
      ],
      "execution_count": 0,
      "outputs": [
        {
          "output_type": "stream",
          "text": [
            "<class 'pandas.core.frame.DataFrame'>\n",
            "Int64Index: 28750 entries, 0 to 32560\n",
            "Data columns (total 2 columns):\n",
            " #   Column  Non-Null Count  Dtype\n",
            "---  ------  --------------  -----\n",
            " 0   race    28750 non-null  int64\n",
            " 1   sex     28750 non-null  int64\n",
            "dtypes: int64(2)\n",
            "memory usage: 673.8 KB\n"
          ],
          "name": "stdout"
        }
      ]
    },
    {
      "cell_type": "code",
      "metadata": {
        "scrolled": false,
        "id": "zq_omYWIBkqr",
        "colab_type": "code",
        "outputId": "17758065-1d24-4391-d8fa-0aa995d67acf",
        "colab": {
          "base_uri": "https://localhost:8080/",
          "height": 417
        }
      },
      "source": [
        "#Checking Class - Sex - Race imbalance\n",
        "\n",
        "y_count = y.value_counts()\n",
        "neg, pos = y_count[0], y_count[1]\n",
        "total_y = neg + pos\n",
        "\n",
        "s_count = Z[\"sex\"].value_counts()\n",
        "fem, male = s_count[0], s_count[1]\n",
        "total_s = fem + male\n",
        "\n",
        "r_count = Z[\"race\"].value_counts()\n",
        "black, white = r_count[0], r_count[1]\n",
        "total_r = black + white\n",
        "\n",
        "data_y = pd.DataFrame({'Income': y_count.index,'records': y_count.values})\n",
        "data_y['Income'] = data_y['Income'].map({0:\"Less than 50K\", 1:'More than 50K'})\n",
        "\n",
        "data_s = pd.DataFrame({'Sex': s_count.index,'records': s_count.values})\n",
        "data_s['Sex'] = data_s['Sex'].map({0:\"Female\", 1:'Male'})\n",
        "\n",
        "data_r = pd.DataFrame({'Race': r_count.index,'records': r_count.values})\n",
        "data_r['Race'] = data_r['Race'].map({0:\"Black\", 1:'White'})\n",
        "\n",
        "\n",
        "fig,(AX1, AX2, AX3)  = plt.subplots(ncols=3, figsize=(17,5))\n",
        "AX1.set_ylim(0, 27000)\n",
        "AX2.set_ylim(0, 27000)\n",
        "AX3.set_ylim(0, 27000)\n",
        "sns.barplot(ax = AX1, x = 'Income', y=\"records\", data=data_y, palette=\"Blues_d\")\n",
        "sns.barplot(ax = AX2, x = 'Sex', y=\"records\", data=data_s, palette=\"BuGn_r\")\n",
        "sns.barplot(ax = AX3, x = 'Race', y=\"records\", data=data_r, palette=\"BuGn_r\")\n",
        "plt.show()\n",
        "\n",
        "\n",
        "print('Records:\\n    Total: {}\\n    Positive: {} ({:.2f}% of total)\\n    Negative: {} ({:.2f}% of total)\\n \\n Sex:\\n    Male: {} ({:.2f}% of total)\\n    Female: {} ({:.2f}% of total)\\n \\n Race:\\n    White: {} ({:.2f}% of total)\\n    Black: {} ({:.2f}% of total)'.format(\n",
        "    total_y, pos, 100 * pos / total_y, neg, 100*neg/total_y, male, 100 * male / total_s, fem, 100*fem/total_s, white, 100 * white / total_r, black, 100*black/total_r))\n",
        "\n",
        " "
      ],
      "execution_count": 0,
      "outputs": [
        {
          "output_type": "display_data",
          "data": {
            "image/png": "[encoded data removed]",
            "text/plain": [
              "<Figure size 1224x360 with 3 Axes>"
            ]
          },
          "metadata": {
            "tags": [],
            "needs_background": "light"
          }
        },
        {
          "output_type": "stream",
          "text": [
            "Records:\n",
            "    Total: 28750\n",
            "    Positive: 7205 (25.06% of total)\n",
            "    Negative: 21545 (74.94% of total)\n",
            " \n",
            " Sex:\n",
            "    Male: 19456 (67.67% of total)\n",
            "    Female: 9294 (32.33% of total)\n",
            " \n",
            " Race:\n",
            "    White: 25933 (90.20% of total)\n",
            "    Black: 2817 (9.80% of total)\n"
          ],
          "name": "stdout"
        }
      ]
    },
    {
      "cell_type": "code",
      "metadata": {
        "scrolled": true,
        "id": "HqGR2YHYBkqt",
        "colab_type": "code",
        "colab": {}
      },
      "source": [
        "# Checking Class - Sex/Race imbalance\n",
        "\n",
        "data = pd.concat([y,Z], axis=1) \n",
        "data['sex'] = data['sex'].map({0:\"Female\", 1:'Male'})\n",
        "data['race'] = data['race'].map({0:\"Black\", 1:\"White\"})\n",
        "data[\"income\"] = data['y'].map({0:\"Less than 50K\", 1:\"More than 50K\"})"
      ],
      "execution_count": 0,
      "outputs": []
    },
    {
      "cell_type": "code",
      "metadata": {
        "id": "CSG-s8I6Bkqw",
        "colab_type": "code",
        "outputId": "ce05ff2d-880f-4a1e-fe6b-858016b0822a",
        "colab": {
          "base_uri": "https://localhost:8080/",
          "height": 445
        }
      },
      "source": [
        "#Plot Class - Sex/Race imbalance\n",
        "\n",
        "plt.figure(1)\n",
        "plt.subplot(1,2,1)\n",
        "data.groupby(\"sex\").income.value_counts().unstack(0).plot.bar(ax=plt.gca(), color = ['darkblue', 'lightskyblue'], rot=0, stacked=True, figsize=(15,5))\n",
        "plt.subplot(1,2,2)\n",
        "data.groupby(\"race\").income.value_counts().unstack(0).plot.bar(ax=plt.gca(), color = ['darkblue', 'lightskyblue'], rot=0, stacked=True)\n",
        "\n",
        "s = data.groupby(\"income\").sex.value_counts()\n",
        "r = data.groupby(\"income\").race.value_counts()\n",
        "\n",
        "tot_s = s[0]+s[1]\n",
        "tot_r = r[0]+r[1]\n",
        "\n",
        "print('Less than 50K:\\n    Female: {} ({:.2f}% of total)\\n    Male: {} ({:.2f}% of total)\\n    Black: {} ({:.2f}% of total)\\n    White: {} ({:.2f}% of total)\\n'.format(\n",
        "       s[1], s[1]*100/tot_s, s[0], s[0]*100/tot_s, r[1], r[1]*100/tot_r, r[0], r[0]*100/tot_r))\n",
        "\n",
        "tot_s = s[2]+s[3]\n",
        "tot_r = r[2]+r[3]\n",
        "\n",
        "print('More than 50K:\\n    Female: {} ({:.2f}% of total)\\n    Male: {} ({:.2f}% of total)\\n    Black: {} ({:.2f}% of total)\\n    White: {} ({:.2f}% of total)\\n'.format(\n",
        "       s[3], s[3]*100/tot_s, s[2], s[2]*100/tot_s, r[3], r[3]*100/tot_r, r[2], r[2]*100/tot_r))"
      ],
      "execution_count": 0,
      "outputs": [
        {
          "output_type": "stream",
          "text": [
            "Less than 50K:\n",
            "    Female: 8238 (38.24% of total)\n",
            "    Male: 13307 (61.76% of total)\n",
            "    Black: 2451 (11.38% of total)\n",
            "    White: 19094 (88.62% of total)\n",
            "\n",
            "More than 50K:\n",
            "    Female: 1056 (14.66% of total)\n",
            "    Male: 6149 (85.34% of total)\n",
            "    Black: 366 (5.08% of total)\n",
            "    White: 6839 (94.92% of total)\n",
            "\n"
          ],
          "name": "stdout"
        },
        {
          "output_type": "display_data",
          "data": {
            "image/png": "[encoded data removed]",
            "text/plain": [
              "<Figure size 1080x360 with 2 Axes>"
            ]
          },
          "metadata": {
            "tags": [],
            "needs_background": "light"
          }
        }
      ]
    },
    {
      "cell_type": "code",
      "metadata": {
        "scrolled": true,
        "id": "UfpskM0gBkqy",
        "colab_type": "code",
        "outputId": "0918788d-9124-41ff-a783-9ed98d257b6a",
        "colab": {
          "base_uri": "https://localhost:8080/",
          "height": 340
        }
      },
      "source": [
        "X.info()"
      ],
      "execution_count": 0,
      "outputs": [
        {
          "output_type": "stream",
          "text": [
            "<class 'pandas.core.frame.DataFrame'>\n",
            "Int64Index: 28750 entries, 0 to 32560\n",
            "Data columns (total 12 columns):\n",
            " #   Column          Non-Null Count  Dtype \n",
            "---  ------          --------------  ----- \n",
            " 0   age             28750 non-null  int64 \n",
            " 1   workclass       28750 non-null  object\n",
            " 2   fnlwgt          28750 non-null  int64 \n",
            " 3   education       28750 non-null  object\n",
            " 4   education_num   28750 non-null  int64 \n",
            " 5   marital_status  28750 non-null  object\n",
            " 6   occupation      28750 non-null  object\n",
            " 7   relationship    28750 non-null  object\n",
            " 8   capital_gain    28750 non-null  int64 \n",
            " 9   capital_loss    28750 non-null  int64 \n",
            " 10  hours_per_week  28750 non-null  int64 \n",
            " 11  country         28750 non-null  object\n",
            "dtypes: int64(6), object(6)\n",
            "memory usage: 2.9+ MB\n"
          ],
          "name": "stdout"
        }
      ]
    },
    {
      "cell_type": "code",
      "metadata": {
        "scrolled": true,
        "id": "tCt3pHQhBkq0",
        "colab_type": "code",
        "outputId": "e5458d25-a919-46d7-9fa5-e80491ea1703",
        "colab": {
          "base_uri": "https://localhost:8080/",
          "height": 238
        }
      },
      "source": [
        "X.nunique()"
      ],
      "execution_count": 0,
      "outputs": [
        {
          "output_type": "execute_result",
          "data": {
            "text/plain": [
              "age                  72\n",
              "workclass             7\n",
              "fnlwgt            19388\n",
              "education            16\n",
              "education_num        16\n",
              "marital_status        7\n",
              "occupation           14\n",
              "relationship          6\n",
              "capital_gain        118\n",
              "capital_loss         87\n",
              "hours_per_week       94\n",
              "country              39\n",
              "dtype: int64"
            ]
          },
          "metadata": {
            "tags": []
          },
          "execution_count": 17
        }
      ]
    },
    {
      "cell_type": "markdown",
      "metadata": {
        "id": "O22PEPouBkq2",
        "colab_type": "text"
      },
      "source": [
        "## Preprocessing"
      ]
    },
    {
      "cell_type": "code",
      "metadata": {
        "scrolled": false,
        "id": "-jDoROYyBkq2",
        "colab_type": "code",
        "outputId": "1c458f9b-593e-4a66-8108-0eb5e5848388",
        "colab": {
          "base_uri": "https://localhost:8080/",
          "height": 238
        }
      },
      "source": [
        "X.nunique()"
      ],
      "execution_count": 0,
      "outputs": [
        {
          "output_type": "execute_result",
          "data": {
            "text/plain": [
              "age                  72\n",
              "workclass             7\n",
              "fnlwgt            19388\n",
              "education            16\n",
              "education_num        16\n",
              "marital_status        7\n",
              "occupation           14\n",
              "relationship          6\n",
              "capital_gain        118\n",
              "capital_loss         87\n",
              "hours_per_week       94\n",
              "country              39\n",
              "dtype: int64"
            ]
          },
          "metadata": {
            "tags": []
          },
          "execution_count": 18
        }
      ]
    },
    {
      "cell_type": "code",
      "metadata": {
        "id": "qmUgOgDWBkq4",
        "colab_type": "code",
        "outputId": "b1342080-8c74-42c5-98bc-173f98451ab2",
        "colab": {
          "base_uri": "https://localhost:8080/",
          "height": 714
        }
      },
      "source": [
        "states = X.groupby('country').size().sort_values(ascending=False)\n",
        "states"
      ],
      "execution_count": 0,
      "outputs": [
        {
          "output_type": "execute_result",
          "data": {
            "text/plain": [
              "country\n",
              "United-States                 26847\n",
              "Mexico                          563\n",
              "Germany                         124\n",
              "Canada                          105\n",
              "El-Salvador                      96\n",
              "Cuba                             90\n",
              "Puerto-Rico                      87\n",
              "England                          85\n",
              "Jamaica                          79\n",
              "Italy                            68\n",
              "Guatemala                        59\n",
              "Poland                           55\n",
              "Columbia                         49\n",
              "Dominican-Republic               48\n",
              "Haiti                            41\n",
              "Iran                             34\n",
              "Portugal                         33\n",
              "Peru                             29\n",
              "Nicaragua                        29\n",
              "Greece                           28\n",
              "France                           27\n",
              "Ireland                          23\n",
              "Japan                            21\n",
              "Ecuador                          18\n",
              "Yugoslavia                       16\n",
              "Trinadad&Tobago                  15\n",
              "Outlying-US(Guam-USVI-etc)       14\n",
              "Hungary                          13\n",
              "Honduras                         12\n",
              "Scotland                         11\n",
              "India                            10\n",
              "Philippines                       9\n",
              "Vietnam                           2\n",
              "Hong                              2\n",
              "Taiwan                            2\n",
              "Thailand                          2\n",
              "China                             2\n",
              "South                             1\n",
              "Holand-Netherlands                1\n",
              "dtype: int64"
            ]
          },
          "metadata": {
            "tags": []
          },
          "execution_count": 19
        }
      ]
    },
    {
      "cell_type": "code",
      "metadata": {
        "id": "tWUksKs9Bkq6",
        "colab_type": "code",
        "colab": {}
      },
      "source": [
        "#only the first 15 represented countries will be maintained. the others will be grouped in \"others\"\n",
        "others= states[14:].index"
      ],
      "execution_count": 0,
      "outputs": []
    },
    {
      "cell_type": "code",
      "metadata": {
        "id": "HQ5o7XL9Bkq8",
        "colab_type": "code",
        "outputId": "124a82ce-7f76-4711-e4e3-26dd0cbc775b",
        "colab": {
          "base_uri": "https://localhost:8080/",
          "height": 34
        }
      },
      "source": [
        "X.loc[X['country'].isin(others), 'country'] = \"other\"\n",
        "X[\"country\"].nunique()"
      ],
      "execution_count": 0,
      "outputs": [
        {
          "output_type": "execute_result",
          "data": {
            "text/plain": [
              "15"
            ]
          },
          "metadata": {
            "tags": []
          },
          "execution_count": 21
        }
      ]
    },
    {
      "cell_type": "code",
      "metadata": {
        "id": "EvM-rB5eBkq-",
        "colab_type": "code",
        "outputId": "f8a09f56-e677-40e2-9afb-76ca386ec184",
        "colab": {
          "base_uri": "https://localhost:8080/",
          "height": 238
        }
      },
      "source": [
        "X.nunique()"
      ],
      "execution_count": 0,
      "outputs": [
        {
          "output_type": "execute_result",
          "data": {
            "text/plain": [
              "age                  72\n",
              "workclass             7\n",
              "fnlwgt            19388\n",
              "education            16\n",
              "education_num        16\n",
              "marital_status        7\n",
              "occupation           14\n",
              "relationship          6\n",
              "capital_gain        118\n",
              "capital_loss         87\n",
              "hours_per_week       94\n",
              "country              15\n",
              "dtype: int64"
            ]
          },
          "metadata": {
            "tags": []
          },
          "execution_count": 22
        }
      ]
    },
    {
      "cell_type": "code",
      "metadata": {
        "id": "EZBbfVXFBkrA",
        "colab_type": "code",
        "colab": {}
      },
      "source": [
        "#Creating dummy variables for categorical attributes\n",
        "\n",
        "# workclass\n",
        "X = X.merge(pd.get_dummies(X.workclass, drop_first=True, prefix='workclass'), left_index=True, right_index=True)\n",
        "# marital_status\n",
        "X = X.merge(pd.get_dummies(X.marital_status, drop_first=True, prefix='marital_status'), left_index=True, right_index=True)\n",
        "# occupation\n",
        "X = X.merge(pd.get_dummies(X.occupation, drop_first=True, prefix='occupation'), left_index=True, right_index=True)\n",
        "# relationship \n",
        "X = X.merge(pd.get_dummies(X.relationship, drop_first=True, prefix='relationship'), left_index=True, right_index=True)\n",
        "# country\n",
        "X = X.merge(pd.get_dummies(X.country, drop_first=True, prefix='country') , left_index=True, right_index=True)\n"
      ],
      "execution_count": 0,
      "outputs": []
    },
    {
      "cell_type": "code",
      "metadata": {
        "id": "177z0AoXBkrB",
        "colab_type": "code",
        "colab": {}
      },
      "source": [
        "#Excluding the missing columns\n",
        "X = X.drop([\"workclass\", \n",
        "              \"marital_status\", \n",
        "              \"occupation\", \n",
        "              \"relationship\", \n",
        "              \"country\",\n",
        "              \"education\"],\n",
        "            axis=1)"
      ],
      "execution_count": 0,
      "outputs": []
    },
    {
      "cell_type": "code",
      "metadata": {
        "id": "r03FI6RLBkrD",
        "colab_type": "code",
        "outputId": "fe845b2b-ba3e-48b9-fe1a-fa57469e0eed",
        "colab": {
          "base_uri": "https://localhost:8080/",
          "height": 986
        }
      },
      "source": [
        "X.info()"
      ],
      "execution_count": 0,
      "outputs": [
        {
          "output_type": "stream",
          "text": [
            "<class 'pandas.core.frame.DataFrame'>\n",
            "Int64Index: 28750 entries, 0 to 32560\n",
            "Data columns (total 50 columns):\n",
            " #   Column                                Non-Null Count  Dtype\n",
            "---  ------                                --------------  -----\n",
            " 0   age                                   28750 non-null  int64\n",
            " 1   fnlwgt                                28750 non-null  int64\n",
            " 2   education_num                         28750 non-null  int64\n",
            " 3   capital_gain                          28750 non-null  int64\n",
            " 4   capital_loss                          28750 non-null  int64\n",
            " 5   hours_per_week                        28750 non-null  int64\n",
            " 6   workclass_Local-gov                   28750 non-null  uint8\n",
            " 7   workclass_Private                     28750 non-null  uint8\n",
            " 8   workclass_Self-emp-inc                28750 non-null  uint8\n",
            " 9   workclass_Self-emp-not-inc            28750 non-null  uint8\n",
            " 10  workclass_State-gov                   28750 non-null  uint8\n",
            " 11  workclass_Without-pay                 28750 non-null  uint8\n",
            " 12  marital_status_Married-AF-spouse      28750 non-null  uint8\n",
            " 13  marital_status_Married-civ-spouse     28750 non-null  uint8\n",
            " 14  marital_status_Married-spouse-absent  28750 non-null  uint8\n",
            " 15  marital_status_Never-married          28750 non-null  uint8\n",
            " 16  marital_status_Separated              28750 non-null  uint8\n",
            " 17  marital_status_Widowed                28750 non-null  uint8\n",
            " 18  occupation_Armed-Forces               28750 non-null  uint8\n",
            " 19  occupation_Craft-repair               28750 non-null  uint8\n",
            " 20  occupation_Exec-managerial            28750 non-null  uint8\n",
            " 21  occupation_Farming-fishing            28750 non-null  uint8\n",
            " 22  occupation_Handlers-cleaners          28750 non-null  uint8\n",
            " 23  occupation_Machine-op-inspct          28750 non-null  uint8\n",
            " 24  occupation_Other-service              28750 non-null  uint8\n",
            " 25  occupation_Priv-house-serv            28750 non-null  uint8\n",
            " 26  occupation_Prof-specialty             28750 non-null  uint8\n",
            " 27  occupation_Protective-serv            28750 non-null  uint8\n",
            " 28  occupation_Sales                      28750 non-null  uint8\n",
            " 29  occupation_Tech-support               28750 non-null  uint8\n",
            " 30  occupation_Transport-moving           28750 non-null  uint8\n",
            " 31  relationship_Not-in-family            28750 non-null  uint8\n",
            " 32  relationship_Other-relative           28750 non-null  uint8\n",
            " 33  relationship_Own-child                28750 non-null  uint8\n",
            " 34  relationship_Unmarried                28750 non-null  uint8\n",
            " 35  relationship_Wife                     28750 non-null  uint8\n",
            " 36  country_Columbia                      28750 non-null  uint8\n",
            " 37  country_Cuba                          28750 non-null  uint8\n",
            " 38  country_Dominican-Republic            28750 non-null  uint8\n",
            " 39  country_El-Salvador                   28750 non-null  uint8\n",
            " 40  country_England                       28750 non-null  uint8\n",
            " 41  country_Germany                       28750 non-null  uint8\n",
            " 42  country_Guatemala                     28750 non-null  uint8\n",
            " 43  country_Italy                         28750 non-null  uint8\n",
            " 44  country_Jamaica                       28750 non-null  uint8\n",
            " 45  country_Mexico                        28750 non-null  uint8\n",
            " 46  country_Poland                        28750 non-null  uint8\n",
            " 47  country_Puerto-Rico                   28750 non-null  uint8\n",
            " 48  country_United-States                 28750 non-null  uint8\n",
            " 49  country_other                         28750 non-null  uint8\n",
            "dtypes: int64(6), uint8(44)\n",
            "memory usage: 4.0 MB\n"
          ],
          "name": "stdout"
        }
      ]
    },
    {
      "cell_type": "code",
      "metadata": {
        "id": "xWylRRbisQ5n",
        "colab_type": "code",
        "outputId": "95f85884-79b0-4bf4-daf2-e0ca096f6323",
        "colab": {
          "base_uri": "https://localhost:8080/",
          "height": 230
        }
      },
      "source": [
        "\n",
        "corr_sex = pd.DataFrame(X.corrwith(Z.sex))\n",
        "corr_race = pd.DataFrame(X.corrwith(Z.race))\n",
        "\n",
        "corr = corr_sex.join(corr_race, rsuffix='_')\n",
        "corr.columns=['race', 'sex']\n",
        "\n",
        "corr= corr.transpose()\n",
        "\n",
        "grid_kws = {\"height_ratios\": (.9, .01), \"hspace\": (-0.9)}\n",
        "fig, (ax1, ax2) = plt.subplots(2, figsize=(20,20), gridspec_kw=grid_kws)\n",
        "heat = sns.heatmap(corr, ax=ax1, vmin=-1, vmax=1, cmap=sns.diverging_palette(255, 133,n=67, center=\"light\"), square =True, cbar_ax=ax2, cbar_kws={\"orientation\": \"horizontal\"})\n",
        "heat.set_xticklabels(heat.get_xticklabels(), rotation=90, horizontalalignment='right')\n",
        "ax1.xaxis.tick_top()"
      ],
      "execution_count": 0,
      "outputs": [
        {
          "output_type": "stream",
          "text": [
            "INFO:numexpr.utils:NumExpr defaulting to 2 threads.\n"
          ],
          "name": "stderr"
        },
        {
          "output_type": "display_data",
          "data": {
            "image/png": "[encoded data removed]",
            "text/plain": [
              "<Figure size 1440x1440 with 2 Axes>"
            ]
          },
          "metadata": {
            "tags": [],
            "needs_background": "light"
          }
        }
      ]
    },
    {
      "cell_type": "code",
      "metadata": {
        "id": "sZgsUF39BkrF",
        "colab_type": "code",
        "colab": {}
      },
      "source": [
        "# split into train/test set\n",
        "X_train, X_test, y_train, y_test, Z_train, Z_test = train_test_split(X, y, Z, test_size=0.3, \n",
        "                                                                     stratify=y, random_state=7)\n",
        "\n",
        "# split into train/val set\n",
        "X_train, X_val, y_train, y_val, Z_train, Z_val = train_test_split(X_train, y_train, Z_train, test_size=0.2, \n",
        "                                                                     stratify=y_train, random_state=7)\n"
      ],
      "execution_count": 0,
      "outputs": []
    },
    {
      "cell_type": "code",
      "metadata": {
        "id": "b2LKecJzBkrH",
        "colab_type": "code",
        "colab": {}
      },
      "source": [
        "# Converting to nparray\n",
        "X_train = np.array(X_train)\n",
        "X_val = np.array(X_val)\n",
        "X_test = np.array(X_test)\n",
        "y_train = np.array(y_train)\n",
        "y_val = np.array(y_val)\n",
        "y_test = np.array(y_test)"
      ],
      "execution_count": 0,
      "outputs": []
    },
    {
      "cell_type": "code",
      "metadata": {
        "id": "O2BXyZfKBkrI",
        "colab_type": "code",
        "outputId": "6dc61a00-d58b-4b97-dd04-af9fb9a5ae1a",
        "colab": {
          "base_uri": "https://localhost:8080/",
          "height": 119
        }
      },
      "source": [
        "# Scaling\n",
        "scaler= StandardScaler()\n",
        "X_train = scaler.fit_transform(X_train)\n",
        "X_val = scaler.fit_transform(X_val)\n",
        "X_test = scaler.fit_transform(X_test)\n",
        "\n",
        "print('Training labels', y_train.shape)\n",
        "print('Validation labels', y_val.shape)\n",
        "print('Test labels', y_test.shape)\n",
        "\n",
        "print('Training features', X_train.shape)\n",
        "print('Validation features', X_val.shape)\n",
        "print('Test features', X_test.shape)"
      ],
      "execution_count": 0,
      "outputs": [
        {
          "output_type": "stream",
          "text": [
            "Training labels (16100,)\n",
            "Validation labels (4025,)\n",
            "Test labels (8625,)\n",
            "Training features (16100, 50)\n",
            "Validation features (4025, 50)\n",
            "Test features (8625, 50)\n"
          ],
          "name": "stdout"
        }
      ]
    },
    {
      "cell_type": "markdown",
      "metadata": {
        "id": "Gia56mghkZ-_",
        "colab_type": "text"
      },
      "source": [
        "## Baseline Classifier"
      ]
    },
    {
      "cell_type": "code",
      "metadata": {
        "id": "ezc9QfFtBkrL",
        "colab_type": "code",
        "colab": {}
      },
      "source": [
        "def nn_classifier(inputs):\n",
        "    dense1 = Dense(32, activation='relu')(inputs)\n",
        "    dropout1 = Dropout(0.2)(dense1)\n",
        "    dense2 = Dense(32, activation='relu')(dropout1)\n",
        "    dropout2 = Dropout(0.2)(dense2)\n",
        "    dense3 = Dense(32, activation=\"relu\")(dropout2)\n",
        "    dropout3 = Dropout(0.2)(dense3)\n",
        "    outputs = Dense(1, activation='sigmoid')(dropout3)\n",
        "    model =Model(inputs=[inputs], outputs=[outputs], name=\"classifier\")\n",
        "    \n",
        "    model.compile(loss='binary_crossentropy', \n",
        "                  optimizer='adam', \n",
        "                  metrics=['accuracy'])\n",
        "    return model"
      ],
      "execution_count": 0,
      "outputs": []
    },
    {
      "cell_type": "code",
      "metadata": {
        "id": "US6s-CxeSQb7",
        "colab_type": "code",
        "colab": {}
      },
      "source": [
        "#To take care of class imbalance\n",
        "def compute_class_weights(df):\n",
        "    class_values = [0, 1]\n",
        "    class_weights = []\n",
        "\n",
        "    if len(df.shape) == 1:\n",
        "        balanced_weights = compute_class_weight('balanced', class_values, df)\n",
        "        class_weights.append(dict(zip(class_values, balanced_weights)))\n",
        "\n",
        "    else:\n",
        "        n_attr =  df.shape[1]\n",
        "\n",
        "        for idx in range(n_attr):\n",
        "            balanced_weights = compute_class_weight('balanced', class_values,\n",
        "                                                    np.array(df)[:,idx])\n",
        "            class_weights.append(dict(zip(class_values, balanced_weights)))\n",
        "\n",
        "    return class_weights"
      ],
      "execution_count": 0,
      "outputs": []
    },
    {
      "cell_type": "code",
      "metadata": {
        "id": "KzwGVUE2S1da",
        "colab_type": "code",
        "colab": {}
      },
      "source": [
        "early_stopping = EarlyStopping(\n",
        "    monitor='val_loss', \n",
        "    verbose=1,\n",
        "    patience=10,\n",
        "    mode='max',\n",
        "    restore_best_weights=True)"
      ],
      "execution_count": 0,
      "outputs": []
    },
    {
      "cell_type": "code",
      "metadata": {
        "id": "Kn_vZMpRSTIP",
        "colab_type": "code",
        "outputId": "e9bd706b-7ee8-462e-e8de-fa681d1e53fb",
        "colab": {
          "base_uri": "https://localhost:8080/",
          "height": 462
        }
      },
      "source": [
        "# initialise NeuralNet Classifier\n",
        "n_features=X_train.shape[1]\n",
        "classifier_inputs = Input(shape=(n_features,), name=\"clf_input\")\n",
        "\n",
        "clf = nn_classifier(classifier_inputs)\n",
        "\n",
        "class_weights_clf = compute_class_weights(y_train)\n",
        "\n",
        "# train on train set\n",
        "history = clf.fit(X_train, y_train, \n",
        "                  epochs=50, \n",
        "                  validation_data=(X_val, y_val),\n",
        "                  verbose=1,\n",
        "                  class_weight=class_weights_clf,\n",
        "                  callbacks = [early_stopping])"
      ],
      "execution_count": 0,
      "outputs": [
        {
          "output_type": "stream",
          "text": [
            "Train on 16100 samples, validate on 4025 samples\n",
            "Epoch 1/50\n",
            "16100/16100 [==============================] - 1s 78us/step - loss: 0.5100 - accuracy: 0.7302 - val_loss: 0.4113 - val_accuracy: 0.7883\n",
            "Epoch 2/50\n",
            "16100/16100 [==============================] - 1s 67us/step - loss: 0.4249 - accuracy: 0.7862 - val_loss: 0.3915 - val_accuracy: 0.7893\n",
            "Epoch 3/50\n",
            "16100/16100 [==============================] - 1s 60us/step - loss: 0.4116 - accuracy: 0.7927 - val_loss: 0.3874 - val_accuracy: 0.7920\n",
            "Epoch 4/50\n",
            "16100/16100 [==============================] - 1s 60us/step - loss: 0.3977 - accuracy: 0.7960 - val_loss: 0.3859 - val_accuracy: 0.7948\n",
            "Epoch 5/50\n",
            "16100/16100 [==============================] - 1s 61us/step - loss: 0.3928 - accuracy: 0.8021 - val_loss: 0.3804 - val_accuracy: 0.7955\n",
            "Epoch 6/50\n",
            "16100/16100 [==============================] - 1s 59us/step - loss: 0.3873 - accuracy: 0.8071 - val_loss: 0.3891 - val_accuracy: 0.7985\n",
            "Epoch 7/50\n",
            "16100/16100 [==============================] - 1s 60us/step - loss: 0.3867 - accuracy: 0.8063 - val_loss: 0.3846 - val_accuracy: 0.7993\n",
            "Epoch 8/50\n",
            "16100/16100 [==============================] - 1s 63us/step - loss: 0.3790 - accuracy: 0.8111 - val_loss: 0.3701 - val_accuracy: 0.8077\n",
            "Epoch 9/50\n",
            "16100/16100 [==============================] - 1s 64us/step - loss: 0.3783 - accuracy: 0.8116 - val_loss: 0.3696 - val_accuracy: 0.8137\n",
            "Epoch 10/50\n",
            "16100/16100 [==============================] - 1s 58us/step - loss: 0.3777 - accuracy: 0.8143 - val_loss: 0.3611 - val_accuracy: 0.8229\n",
            "Epoch 11/50\n",
            "16100/16100 [==============================] - 1s 65us/step - loss: 0.3746 - accuracy: 0.8130 - val_loss: 0.3681 - val_accuracy: 0.8122\n",
            "Restoring model weights from the end of the best epoch\n",
            "Epoch 00011: early stopping\n"
          ],
          "name": "stdout"
        }
      ]
    },
    {
      "cell_type": "code",
      "metadata": {
        "id": "p-T1jWF2BkrM",
        "colab_type": "code",
        "colab": {}
      },
      "source": [
        "# predict on test set\n",
        "probs_b = clf.predict(X_test)"
      ],
      "execution_count": 0,
      "outputs": []
    },
    {
      "cell_type": "code",
      "metadata": {
        "id": "nItVOSbsBkrO",
        "colab_type": "code",
        "colab": {}
      },
      "source": [
        "#fairness metric\n",
        "def p_rule(y_pred, z_values, threshold=0.5):\n",
        "    y_z_1 = y_pred[z_values == 1] > threshold if threshold else y_pred[z_values == 1]\n",
        "    y_z_0 = y_pred[z_values == 0] > threshold if threshold else y_pred[z_values == 0]\n",
        "    odds = y_z_1.mean() / y_z_0.mean()\n",
        "    return np.min([odds, 1/odds]) *100"
      ],
      "execution_count": 0,
      "outputs": []
    },
    {
      "cell_type": "code",
      "metadata": {
        "scrolled": true,
        "id": "oiaWS7clBkrR",
        "colab_type": "code",
        "colab": {}
      },
      "source": [
        "# p-rules\n",
        "p_rules_0 = pd.DataFrame()\n",
        "p_rules_0.loc[0, 'race'] = p_rule(probs_b, Z_test['race']) \n",
        "p_rules_0.loc[0, 'sex'] = p_rule(probs_b, Z_test['sex']) \n",
        "p_rules_0 = p_rules_0.loc[0]\n",
        "\n",
        "# metrics\n",
        "val_metrics_0 = pd.DataFrame()\n",
        "val_metrics_0.loc[0, 'ROC AUC'] = roc_auc_score(y_test, probs_b)\n",
        "val_metrics_0.loc[0, 'Accuracy'] = (accuracy_score(y_test, (probs_b>0.5)))\n",
        "val_metrics_0 = val_metrics_0.loc[0]"
      ],
      "execution_count": 0,
      "outputs": []
    },
    {
      "cell_type": "code",
      "metadata": {
        "id": "2Ag385AIBkrT",
        "colab_type": "code",
        "colab": {}
      },
      "source": [
        "def plot_distributions(y, Z, iteration=None, val_metrics=None, p_rules=None, fname=None, zero=None,\n",
        "                      val_metrics_0=None, p_rules_0=None):\n",
        "    fig, axes = plt.subplots(1, 2, figsize=(10, 4), sharey=True)\n",
        "    legend={'race': ['black','white'],\n",
        "            'sex': ['female','male']}\n",
        "    for idx, attr in enumerate(Z.columns):\n",
        "        for attr_val in [0, 1]:\n",
        "            ax = sns.distplot(y[Z[attr] == attr_val], hist=False, \n",
        "                              kde_kws={'shade': True,},\n",
        "                              label='{}'.format(legend[attr][attr_val]), \n",
        "                              ax=axes[idx])\n",
        "        ax.set_xlim(0,1)\n",
        "        ax.set_ylim(0,4)\n",
        "        ax.set_yticks([])\n",
        "        ax.set_title(\"sensitive attibute:\" + r\"$\\bf{}$\".format(attr))\n",
        "        if idx == 0:\n",
        "            ax.set_ylabel('prediction distribution')\n",
        "        ax.set_xlabel(r'$P({{income>50K}}|z_{{{}}})$'.format(attr))\n",
        "        \n",
        "    if iteration:\n",
        "        fig.text(1.0, 0.9, f\"Training iteration #{iteration}\", fontsize='16', fontweight='bold')\n",
        "        a=0.48\n",
        "        b=0.35\n",
        "        c=0.21\n",
        "    else:\n",
        "        a=0.9\n",
        "        b=0.77\n",
        "        c=0.63  \n",
        "        \n",
        "    if val_metrics is not None:\n",
        "        fig.text(1.0, 0.77, '\\n'.join([f\"- ROC AUC: {val_metrics['ROC AUC']:.2f}\",\n",
        "                                       f\"- Accuracy: {val_metrics['Accuracy']:.4f}\"]),\n",
        "                 fontsize='14')\n",
        "        \n",
        "    if p_rules is not None:\n",
        "        fig.text(1.0, 0.63, '\\n'.join([f\"- {attr}: {p_rules[attr]:.0f}%-rule\" for attr in p_rules.keys()]), \n",
        "                 fontsize='14')\n",
        "        \n",
        "    fig.text(1.0, a, f\"Training iteration #0\", fontsize='14', fontweight='bold')\n",
        "    fig.text(1.0, b, '\\n'.join([f\"- ROC AUC: {val_metrics_0['ROC AUC']:.2f}\",\n",
        "                                    f\"- Accuracy: {val_metrics_0['Accuracy']:.4f}\"]),\n",
        "             fontsize='12')\n",
        "    fig.text(1.0, c, '\\n'.join([f\"- {attr}: {p_rules_0[attr]:.0f}%-rule\" for attr in p_rules_0.keys()]), \n",
        "             fontsize='12')\n",
        "        \n",
        "    fig.tight_layout()\n",
        "    if fname is not None:\n",
        "        plt.savefig(fname, bbox_inches='tight')\n",
        "    return fig"
      ],
      "execution_count": 0,
      "outputs": []
    },
    {
      "cell_type": "code",
      "metadata": {
        "scrolled": false,
        "id": "3ccjRzJIBkrU",
        "colab_type": "code",
        "outputId": "8a6bc964-4502-4204-c819-f493a3238478",
        "colab": {
          "base_uri": "https://localhost:8080/",
          "height": 215
        }
      },
      "source": [
        "fig = plot_distributions(probs_b, Z_test, val_metrics_0=val_metrics_0, p_rules_0=p_rules_0)"
      ],
      "execution_count": 0,
      "outputs": [
        {
          "output_type": "display_data",
          "data": {
            "image/png": "[encoded data removed]",
            "text/plain": [
              "<Figure size 720x288 with 2 Axes>"
            ]
          },
          "metadata": {
            "tags": [],
            "needs_background": "light"
          }
        }
      ]
    },
    {
      "cell_type": "markdown",
      "metadata": {
        "id": "2ZCkv9yjkdqI",
        "colab_type": "text"
      },
      "source": [
        "## CAN"
      ]
    },
    {
      "cell_type": "code",
      "metadata": {
        "id": "UfalZgFNBkrW",
        "colab_type": "code",
        "colab": {}
      },
      "source": [
        "X_train = pd.DataFrame(X_train)\n",
        "y_train = pd.DataFrame(y_train)\n",
        "Z_train = pd.DataFrame(Z_train)\n",
        "\n",
        "X_val = pd.DataFrame(X_val)\n",
        "y_val = pd.DataFrame(y_val)\n",
        "Z_val = pd.DataFrame(Z_val)\n",
        "\n",
        "X_test = pd.DataFrame(X_test)\n",
        "y_test = pd.DataFrame(y_test)\n",
        "Z_test = pd.DataFrame(Z_test)"
      ],
      "execution_count": 0,
      "outputs": []
    },
    {
      "cell_type": "code",
      "metadata": {
        "id": "tzi--_xfBkrY",
        "colab_type": "code",
        "colab": {}
      },
      "source": [
        "#Fuction to make hidden layers trainable\n",
        "def _make_trainable(net):\n",
        "    def make_trainable(flag):\n",
        "        net.trainable = flag\n",
        "        for layer in net.layers:\n",
        "            layer.trainable = flag\n",
        "    return make_trainable"
      ],
      "execution_count": 0,
      "outputs": []
    },
    {
      "cell_type": "code",
      "metadata": {
        "id": "1Cza2G0btkSO",
        "colab_type": "code",
        "colab": {}
      },
      "source": [
        "#Classifier net\n",
        "def build_classifier(inputs):\n",
        "    dense1 = Dense(32, activation='relu', name=\"dense_1\")(inputs)\n",
        "    dropout1 = Dropout(0.2, name=\"dropout_1\")(dense1)\n",
        "    dense2 = Dense(32, activation='relu', name=\"dense_2\")(dropout1)\n",
        "    dropout2 = Dropout(0.2, name=\"dropout_2\")(dense2)\n",
        "    dense3 = Dense(32, activation='relu', name=\"dense_3\")(dropout2)\n",
        "    dropout3 = Dropout(0.2, name=\"dropout_3\")(dense3)\n",
        "    outputs = Dense(1, activation='sigmoid', name='y')(dropout3)\n",
        "    return Model(inputs=[inputs], outputs=[outputs], name=\"classifier\")"
      ],
      "execution_count": 0,
      "outputs": []
    },
    {
      "cell_type": "code",
      "metadata": {
        "id": "2-KFIz47Bkrb",
        "colab_type": "code",
        "colab": {}
      },
      "source": [
        "#Adversial net\n",
        "def build_adversial(inputs, n_sensitive):\n",
        "    dense1 = Dense(32, activation='relu', name=\"dense_1\")(inputs)\n",
        "    dense2 = Dense(32, activation='relu', name=\"dense_2\")(dense1)\n",
        "    dense3 = Dense(32, activation='relu', name=\"dense_3\")(dense2)\n",
        "    outputs = [Dense(1, activation='sigmoid', name=\"adv_output_{:>01}\".format(i))(dense3) for i in range(n_sensitive)]\n",
        "    return Model(inputs=[inputs], outputs=outputs, name=\"adversial\")\n"
      ],
      "execution_count": 0,
      "outputs": []
    },
    {
      "cell_type": "code",
      "metadata": {
        "id": "WI2Zp6qKBkrd",
        "colab_type": "code",
        "colab": {}
      },
      "source": [
        "#Compile classifier\n",
        "def compile_classifier(classifier):\n",
        "    trainable_classifier = _make_trainable(classifier)\n",
        "    trainable_classifier(True)\n",
        "    classifier.compile(loss='binary_crossentropy', optimizer=Adam())\n",
        "    return classifier"
      ],
      "execution_count": 0,
      "outputs": []
    },
    {
      "cell_type": "code",
      "metadata": {
        "id": "hT7emK4ZBkrf",
        "colab_type": "code",
        "colab": {}
      },
      "source": [
        "#Compile Classification - Adversial Net\n",
        "def compile_can(inputs, classifier, adversial, lambda_0, lambda_1):\n",
        "    #lambdas= [lambda_0, lambda_1]\n",
        "    can = Model(inputs=[inputs], outputs=[classifier(inputs)]+adversial(classifier(inputs)), name=\"can\")\n",
        "    trainable_classifier = _make_trainable(classifier)\n",
        "    trainable_adversial = _make_trainable(adversial)\n",
        "    trainable_classifier(True)\n",
        "    trainable_adversial(False)\n",
        "    loss_weights = [1.]+[-lambda_0]+[-lambda_1]\n",
        "    can.compile(loss=['binary_crossentropy']*(len(loss_weights)), \n",
        "                      loss_weights=loss_weights,\n",
        "                      optimizer=Adam())\n",
        "    return can"
      ],
      "execution_count": 0,
      "outputs": []
    },
    {
      "cell_type": "code",
      "metadata": {
        "id": "sxoK_CH1Bkrh",
        "colab_type": "code",
        "colab": {}
      },
      "source": [
        "#Compile Adversial Net (same as Classification-Adversial but with only two outputs corresponding to the sensitive attributes)\n",
        "def compile_adversial(inputs, classifier, adversial, n_sensitive):\n",
        "    adv = Model(inputs=[inputs], outputs=adversial(classifier(inputs)))\n",
        "    trainable_classifier = _make_trainable(classifier)\n",
        "    trainable_adversial = _make_trainable(adversial)\n",
        "    trainable_classifier(False)\n",
        "    trainable_adversial(True)\n",
        "    adv.compile(loss=['binary_crossentropy']*n_sensitive, optimizer=Adam())\n",
        "    return adv"
      ],
      "execution_count": 0,
      "outputs": []
    },
    {
      "cell_type": "code",
      "metadata": {
        "id": "JV8ZxDnEBkrn",
        "colab_type": "code",
        "colab": {}
      },
      "source": [
        "#Pretraining phase\n",
        "def pretrain(x, y, z, classifier, adversial, epochs=10, verbose=0):\n",
        "    print('Pretraining phase..')  \n",
        "    trainable_classifier = _make_trainable(classifier)\n",
        "    trainable_adversial = _make_trainable(adversial)\n",
        "    trainable_classifier(True)\n",
        "    class_weight_clf = compute_class_weights(y)\n",
        "    classifier.fit(x.values, y.values, epochs=epochs, verbose=verbose, class_weight=class_weight_clf)\n",
        "    trainable_classifier(False)\n",
        "    trainable_adversial(True)\n",
        "    class_weight_adv = compute_class_weights(z)\n",
        "    adversial.fit(x.values, np.hsplit(z.values, z.shape[1]), class_weight=class_weight_adv, \n",
        "                  epochs=epochs, verbose=verbose)\n",
        "    "
      ],
      "execution_count": 0,
      "outputs": []
    },
    {
      "cell_type": "code",
      "metadata": {
        "id": "5mXQ10BNBkrp",
        "colab_type": "code",
        "colab": {}
      },
      "source": [
        "#Learning phase\n",
        "def fit(x, y, z, classifier, adversial, can, validation_data=None, epochs=250, batch_size=128, save_figs=False, stop_condition=80, plot_dist=False):\n",
        "    print(\"learning phase..\")\n",
        "    n_sensitive = z.shape[1]\n",
        "\n",
        "    if validation_data is not None:\n",
        "        x_val, y_val, z_val = validation_data\n",
        "\n",
        "    class_weight_adv = compute_class_weights(z)\n",
        "    class_weight_clf = compute_class_weights(y)\n",
        "    class_weight_can = class_weight_clf + class_weight_adv\n",
        "\n",
        "    val_metrics = pd.DataFrame()\n",
        "    fairness_metrics = pd.DataFrame()  \n",
        "    delta_f_0 = pd.DataFrame()\n",
        "    delta_f_1 = pd.DataFrame()\n",
        "    delta_a = pd.DataFrame()\n",
        "    \n",
        "    trainable_classifier = _make_trainable(classifier)\n",
        "    trainable_adversial = _make_trainable(adversial)\n",
        "\n",
        "    for idx in range(epochs):\n",
        "\n",
        "        if validation_data is not None:\n",
        "\n",
        "            y_pred = can.predict(x_val)[0]\n",
        "            val_metrics.loc[idx, 'ROC AUC'] = roc_auc_score(y_val, y_pred)\n",
        "            val_metrics.loc[idx, 'Accuracy'] = (accuracy_score(y_val, (y_pred>0.5)))\n",
        "            delta_a.loc[idx, \"Accuracy\"] =  val_metrics.loc[idx]['Accuracy']- val_metrics.loc[0]['Accuracy']\n",
        "\n",
        "\n",
        "            for sensitive_attr in z_val.columns:\n",
        "                fairness_metrics.loc[idx, sensitive_attr] = p_rule(y_pred, z_val[sensitive_attr])  \n",
        "                \n",
        "            delta_f_0.loc[idx, \"race\"] =  (fairness_metrics.loc[idx]['race']/100) - (fairness_metrics.loc[0]['race']/100)\n",
        "            delta_f_1.loc[idx, \"sex\"] =  (fairness_metrics.loc[idx]['sex']/100) - (fairness_metrics.loc[0]['sex']/100)\n",
        "\n",
        "            if plot_dist:\n",
        "                display.clear_output(wait=True)\n",
        "                \n",
        "                plot_distributions(y_pred, z_val, idx+1, val_metrics.loc[idx],\n",
        "                                  fairness_metrics.loc[idx],\n",
        "                                  val_metrics_0=val_metrics.loc[0], p_rules_0=fairness_metrics.loc[0],\n",
        "                                  fname=f'output{idx+1:08d}.png' if save_figs else None)\n",
        "\n",
        "                plt.show(plt.gcf())\n",
        "            \n",
        "        # train adverserial\n",
        "        trainable_classifier(False)\n",
        "        trainable_adversial(True)\n",
        "        h_a = adversial.fit(x.values, np.hsplit(z.values, z.shape[1]), batch_size=batch_size, epochs=1, class_weight=class_weight_adv, \n",
        "                            verbose=0)\n",
        "\n",
        "        # train classifier\n",
        "        trainable_classifier(True)\n",
        "        trainable_adversial(False)\n",
        "        indices = np.random.permutation(len(x))[:batch_size]\n",
        "        h_c = can.train_on_batch(x.values[indices],\n",
        "                                 [y.values[indices]]+np.hsplit(z.values[indices],n_sensitive), class_weight=class_weight_can)\n",
        "\n",
        "        obj = -(((delta_f_0[\"race\"][idx]/ (abs(delta_a[\"Accuracy\"][idx])))/100) + ((delta_f_1[\"sex\"][idx]/ (abs(delta_a[\"Accuracy\"][idx])))/100))\n",
        "        \n",
        "        ep = idx+1\n",
        "\n",
        "        if (fairness_metrics[\"race\"][idx] > stop_condition and fairness_metrics[\"sex\"][idx] > stop_condition):\n",
        "                print('Number of Epochs needed to obtain fairness:', ep)\n",
        "                print('delta p-rule race:', delta_f_0[\"race\"][idx])\n",
        "                print('delta p-rule sex:', delta_f_1[\"sex\"][idx])\n",
        "                print('delta accuracy:', delta_a[\"Accuracy\"][idx])\n",
        "\n",
        "                return obj\n",
        "    \n",
        "    print('Fairness not reached in 300 epochs:')\n",
        "    return obj"
      ],
      "execution_count": 0,
      "outputs": []
    },
    {
      "cell_type": "code",
      "metadata": {
        "id": "6TGj_yNHtxcs",
        "colab_type": "code",
        "colab": {}
      },
      "source": [
        "def can(cfg):\n",
        "    print(\"Testing configuration: \\n     lambda 0:\", cfg['lambda_0'], \"   lambda 1: \",cfg['lambda_1'])\n",
        "    n_features=X_train.shape[1]\n",
        "    n_sensitive=Z_train.shape[1]\n",
        "    pre_epochs=5\n",
        "    pre_verbose=0 \n",
        "    val_data=(X_val, y_val, Z_val)\n",
        "    epochs=300\n",
        "    stop_cond = 80\n",
        "\n",
        "    classifier_inputs = Input(shape=(n_features,), name=\"clf_input\")\n",
        "    adversial_inputs = Input(shape=(1,), name=\"adv_input\")\n",
        "\n",
        "    classifier = build_classifier(classifier_inputs)\n",
        "    adversial = build_adversial(adversial_inputs, n_sensitive)\n",
        "\n",
        "    classifier = compile_classifier(classifier)\n",
        "    can = compile_can(classifier_inputs, classifier, adversial, cfg[\"lambda_0\"], cfg[\"lambda_1\"])\n",
        "    adversial = compile_adversial(classifier_inputs, classifier, adversial, n_sensitive)\n",
        "    \n",
        "    pretrain(X_train, y_train, Z_train, classifier, adversial, verbose=pre_verbose, epochs=pre_epochs)\n",
        "\n",
        "    fitted = fit(X_train, y_train, Z_train, classifier, adversial, can, \n",
        "        validation_data=val_data,\n",
        "        epochs=epochs, stop_condition=stop_cond)\n",
        "    \n",
        "    return fitted"
      ],
      "execution_count": 0,
      "outputs": []
    },
    {
      "cell_type": "markdown",
      "metadata": {
        "id": "MlNWLrQnkJX3",
        "colab_type": "text"
      },
      "source": [
        "### Hyperoptimization"
      ]
    },
    {
      "cell_type": "code",
      "metadata": {
        "id": "6Oc1CDTaCQCR",
        "colab_type": "code",
        "colab": {}
      },
      "source": [
        "# defining results dictionary that will be populated when experiments run\n",
        "res = {}"
      ],
      "execution_count": 0,
      "outputs": []
    },
    {
      "cell_type": "code",
      "metadata": {
        "id": "TYSzmdZxCSkX",
        "colab_type": "code",
        "colab": {}
      },
      "source": [
        "# Hyperparameters range\n",
        "\n",
        "#Lambdas\n",
        "lambda_0_lower = 1.\n",
        "lambda_0_upper = 200.\n",
        "lambda_1_lower = 1.\n",
        "lambda_1_upper = 200."
      ],
      "execution_count": 0,
      "outputs": []
    },
    {
      "cell_type": "code",
      "metadata": {
        "id": "PfkMc7eGCjRd",
        "colab_type": "code",
        "colab": {}
      },
      "source": [
        "lambda_0 = UniformFloatHyperparameter(\"lambda_0\", \n",
        "                                        lower=lambda_0_lower, \n",
        "                                        upper=lambda_0_upper)\n",
        "\n",
        "lambda_1 = UniformFloatHyperparameter(\"lambda_1\", \n",
        "                                        lower=lambda_1_lower, \n",
        "                                        upper=lambda_1_upper)"
      ],
      "execution_count": 0,
      "outputs": []
    },
    {
      "cell_type": "code",
      "metadata": {
        "id": "SAlQMFf5C6Vz",
        "colab_type": "code",
        "colab": {}
      },
      "source": [
        "# Build Configuration Space which defines all parameters and their ranges\n",
        "cs= ConfigurationSpace()"
      ],
      "execution_count": 0,
      "outputs": []
    },
    {
      "cell_type": "code",
      "metadata": {
        "id": "JCLCpMN1t4Ob",
        "colab_type": "code",
        "outputId": "29f717a7-f5a6-486b-925a-1c69f648e282",
        "colab": {
          "base_uri": "https://localhost:8080/",
          "height": 51
        }
      },
      "source": [
        "cs.add_hyperparameters([lambda_0, lambda_1])"
      ],
      "execution_count": 0,
      "outputs": [
        {
          "output_type": "execute_result",
          "data": {
            "text/plain": [
              "[lambda_0, Type: UniformFloat, Range: [1.0, 200.0], Default: 100.5,\n",
              " lambda_1, Type: UniformFloat, Range: [1.0, 200.0], Default: 100.5]"
            ]
          },
          "metadata": {
            "tags": []
          },
          "execution_count": 61
        }
      ]
    },
    {
      "cell_type": "code",
      "metadata": {
        "id": "ithCV_7kC-WI",
        "colab_type": "code",
        "colab": {}
      },
      "source": [
        "initial_runs = 5\n",
        "further_runs = 45"
      ],
      "execution_count": 0,
      "outputs": []
    },
    {
      "cell_type": "code",
      "metadata": {
        "id": "PjTuAwN8DB4g",
        "colab_type": "code",
        "outputId": "bfd6fc3c-aeb2-4c2e-92ad-f1a9dedf244e",
        "colab": {
          "base_uri": "https://localhost:8080/",
          "height": 204
        }
      },
      "source": [
        "initial_configs = cs.sample_configuration(size = initial_runs)\n",
        "initial_configs"
      ],
      "execution_count": 0,
      "outputs": [
        {
          "output_type": "execute_result",
          "data": {
            "text/plain": [
              "[Configuration:\n",
              "   lambda_0, Value: 98.627065781744\n",
              "   lambda_1, Value: 110.16579592071132, Configuration:\n",
              "   lambda_0, Value: 52.5592772559921\n",
              "   lambda_1, Value: 28.13034649286336, Configuration:\n",
              "   lambda_0, Value: 181.6624629896231\n",
              "   lambda_1, Value: 125.66347135805258, Configuration:\n",
              "   lambda_0, Value: 161.17921370391667\n",
              "   lambda_1, Value: 60.77312866420032, Configuration:\n",
              "   lambda_0, Value: 20.324855565240238\n",
              "   lambda_1, Value: 52.59802830804566]"
            ]
          },
          "metadata": {
            "tags": []
          },
          "execution_count": 63
        }
      ]
    },
    {
      "cell_type": "code",
      "metadata": {
        "id": "ZpHmCzgdDHa9",
        "colab_type": "code",
        "outputId": "4878f6a3-58a5-4819-a98c-7be334d27df0",
        "colab": {
          "base_uri": "https://localhost:8080/",
          "height": 54
        }
      },
      "source": [
        "scenario = Scenario({\"run_obj\": \"quality\",\n",
        "                     \"runcount-limit\":initial_runs+ further_runs,\n",
        "                     \"cs\":cs,\n",
        "                     \"deterministic\":\"true\"\n",
        "                     })"
      ],
      "execution_count": 0,
      "outputs": [
        {
          "output_type": "stream",
          "text": [
            "INFO:smac.utils.io.cmd_reader.CMDReader:Output to smac3-output_2020-04-29_10:24:17_341521\n"
          ],
          "name": "stderr"
        }
      ]
    },
    {
      "cell_type": "code",
      "metadata": {
        "id": "oRMDhERhDSxj",
        "colab_type": "code",
        "colab": {}
      },
      "source": [
        "# defining function that run and optimize smac\n",
        "def run_smac(acquisition_function):\n",
        "    smac = SMAC4HPO(scenario=scenario, \n",
        "                   tae_runner=can,\n",
        "                   initial_design_kwargs={'configs': initial_configs},\n",
        "                   acquisition_function=acquisition_function\n",
        "                   )\n",
        "\n",
        "    incumbent = smac.optimize()\n",
        "\n",
        "    bestseen = 1-np.minimum.accumulate(list(\n",
        "        smac.get_runhistory()._cost_per_config.values()\n",
        "        ))\n",
        "    \n",
        "    # put best configuration and bestseen in results dictionary\n",
        "    res[f\"HPO - {acquisition_function.__name__}\"] = {\n",
        "    'best_config': list(incumbent._values.values()),\n",
        "    'bestseen': bestseen,\n",
        "    }\n",
        "\n",
        "    return incumbent, smac"
      ],
      "execution_count": 0,
      "outputs": []
    },
    {
      "cell_type": "code",
      "metadata": {
        "id": "wfftR3o8E_GV",
        "colab_type": "code",
        "outputId": "33f81808-24c4-48f6-ae93-0754aa2930f3",
        "colab": {
          "base_uri": "https://localhost:8080/",
          "height": 1000
        }
      },
      "source": [
        "EI_cfg, _ = run_smac(EI)"
      ],
      "execution_count": 0,
      "outputs": [
        {
          "output_type": "stream",
          "text": [
            "INFO:smac.facade.smac_hpo_facade.SMAC4HPO:Optimizing a deterministic scenario for quality without a tuner timeout - will make SMAC deterministic and only evaluate one configuration per iteration!\n",
            "INFO:smac.initial_design.sobol_design.SobolDesign:Running initial design for 5 configurations\n",
            "INFO:smac.facade.smac_hpo_facade.SMAC4HPO:<class 'smac.facade.smac_hpo_facade.SMAC4HPO'>\n",
            "INFO:smac.optimizer.smbo.SMBO:Running initial design\n",
            "INFO:smac.intensification.intensification.Intensifier:First run, no incumbent provided; challenger is assumed to be the incumbent\n"
          ],
          "name": "stderr"
        },
        {
          "output_type": "stream",
          "text": [
            "Testing configuration: \n",
            "     lambda 0: 98.627065781744    lambda 1:  110.16579592071132\n",
            "Pretraining phase..\n",
            "learning phase..\n",
            "Number of Epochs needed to obtain fairness: 110\n",
            "delta p-rule race: 0.288660357600218\n",
            "delta p-rule sex: 0.6032301988707505\n",
            "delta accuracy: -0.029068322981366412\n"
          ],
          "name": "stdout"
        },
        {
          "output_type": "stream",
          "text": [
            "INFO:smac.intensification.intensification.Intensifier:Updated estimated cost of incumbent on 1 runs: -0.3068\n"
          ],
          "name": "stderr"
        },
        {
          "output_type": "stream",
          "text": [
            "Testing configuration: \n",
            "     lambda 0: 52.5592772559921    lambda 1:  28.13034649286336\n",
            "Pretraining phase..\n",
            "learning phase..\n",
            "Number of Epochs needed to obtain fairness: 118\n",
            "delta p-rule race: 0.29755668892461673\n",
            "delta p-rule sex: 0.49358481504796575\n",
            "delta accuracy: -0.022608695652173938\n"
          ],
          "name": "stdout"
        },
        {
          "output_type": "stream",
          "text": [
            "INFO:smac.intensification.intensification.Intensifier:Challenger (-0.3499) is better than incumbent (-0.3068) on 1 runs.\n",
            "INFO:smac.intensification.intensification.Intensifier:Changes in incumbent:\n",
            "INFO:smac.intensification.intensification.Intensifier:  lambda_0 : 98.627065781744 -> 52.5592772559921\n",
            "INFO:smac.intensification.intensification.Intensifier:  lambda_1 : 110.16579592071132 -> 28.13034649286336\n",
            "INFO:smac.intensification.intensification.Intensifier:Updated estimated cost of incumbent on 1 runs: -0.3499\n"
          ],
          "name": "stderr"
        },
        {
          "output_type": "stream",
          "text": [
            "Testing configuration: \n",
            "     lambda 0: 181.6624629896231    lambda 1:  125.66347135805258\n",
            "Pretraining phase..\n",
            "learning phase..\n",
            "Number of Epochs needed to obtain fairness: 109\n",
            "delta p-rule race: 0.30819668686397617\n",
            "delta p-rule sex: 0.5366502175177621\n",
            "delta accuracy: -0.01788819875776393\n"
          ],
          "name": "stdout"
        },
        {
          "output_type": "stream",
          "text": [
            "INFO:smac.intensification.intensification.Intensifier:Challenger (-0.4723) is better than incumbent (-0.3499) on 1 runs.\n",
            "INFO:smac.intensification.intensification.Intensifier:Changes in incumbent:\n",
            "INFO:smac.intensification.intensification.Intensifier:  lambda_0 : 52.5592772559921 -> 181.6624629896231\n",
            "INFO:smac.intensification.intensification.Intensifier:  lambda_1 : 28.13034649286336 -> 125.66347135805258\n",
            "INFO:smac.intensification.intensification.Intensifier:Updated estimated cost of incumbent on 1 runs: -0.4723\n"
          ],
          "name": "stderr"
        },
        {
          "output_type": "stream",
          "text": [
            "Testing configuration: \n",
            "     lambda 0: 161.17921370391667    lambda 1:  60.77312866420032\n",
            "Pretraining phase..\n",
            "learning phase..\n",
            "Number of Epochs needed to obtain fairness: 120\n",
            "delta p-rule race: 0.3811287617689664\n",
            "delta p-rule sex: 0.45683147828334186\n",
            "delta accuracy: -0.022111801242235996\n"
          ],
          "name": "stdout"
        },
        {
          "output_type": "stream",
          "text": [
            "INFO:smac.intensification.intensification.Intensifier:Updated estimated cost of incumbent on 1 runs: -0.4723\n"
          ],
          "name": "stderr"
        },
        {
          "output_type": "stream",
          "text": [
            "Testing configuration: \n",
            "     lambda 0: 20.324855565240238    lambda 1:  52.59802830804566\n",
            "Pretraining phase..\n",
            "learning phase..\n",
            "Number of Epochs needed to obtain fairness: 114\n",
            "delta p-rule race: 0.27383973398603945\n",
            "delta p-rule sex: 0.6233591873523016\n",
            "delta accuracy: -0.05093167701863355\n"
          ],
          "name": "stdout"
        },
        {
          "output_type": "stream",
          "text": [
            "INFO:smac.intensification.intensification.Intensifier:Updated estimated cost of incumbent on 1 runs: -0.4723\n"
          ],
          "name": "stderr"
        },
        {
          "output_type": "stream",
          "text": [
            "Testing configuration: \n",
            "     lambda 0: 175.2680323965388    lambda 1:  142.2122114549463\n",
            "Pretraining phase..\n",
            "learning phase..\n",
            "Number of Epochs needed to obtain fairness: 106\n",
            "delta p-rule race: 0.2748347303313955\n",
            "delta p-rule sex: 0.5149263671351405\n",
            "delta accuracy: -0.032298136645962705\n"
          ],
          "name": "stdout"
        },
        {
          "output_type": "stream",
          "text": [
            "INFO:smac.intensification.intensification.Intensifier:Updated estimated cost of incumbent on 1 runs: -0.4723\n"
          ],
          "name": "stderr"
        },
        {
          "output_type": "stream",
          "text": [
            "Testing configuration: \n",
            "     lambda 0: 181.66386166134967    lambda 1:  138.9465668629769\n",
            "Pretraining phase..\n",
            "learning phase..\n",
            "Number of Epochs needed to obtain fairness: 103\n",
            "delta p-rule race: 0.2975342735379234\n",
            "delta p-rule sex: 0.6016514722700987\n",
            "delta accuracy: -0.05440993788819881\n"
          ],
          "name": "stdout"
        },
        {
          "output_type": "stream",
          "text": [
            "INFO:smac.intensification.intensification.Intensifier:Updated estimated cost of incumbent on 1 runs: -0.4723\n"
          ],
          "name": "stderr"
        },
        {
          "output_type": "stream",
          "text": [
            "Testing configuration: \n",
            "     lambda 0: 181.16716160747742    lambda 1:  60.5017846917091\n",
            "Pretraining phase..\n",
            "learning phase..\n",
            "Number of Epochs needed to obtain fairness: 126\n",
            "delta p-rule race: 0.27876457644789787\n",
            "delta p-rule sex: 0.5392531511865362\n",
            "delta accuracy: -0.01043478260869568\n"
          ],
          "name": "stdout"
        },
        {
          "output_type": "stream",
          "text": [
            "INFO:smac.intensification.intensification.Intensifier:Challenger (-0.7839) is better than incumbent (-0.4723) on 1 runs.\n",
            "INFO:smac.intensification.intensification.Intensifier:Changes in incumbent:\n",
            "INFO:smac.intensification.intensification.Intensifier:  lambda_0 : 181.6624629896231 -> 181.16716160747742\n",
            "INFO:smac.intensification.intensification.Intensifier:  lambda_1 : 125.66347135805258 -> 60.5017846917091\n",
            "INFO:smac.intensification.intensification.Intensifier:Updated estimated cost of incumbent on 1 runs: -0.7839\n"
          ],
          "name": "stderr"
        },
        {
          "output_type": "stream",
          "text": [
            "Testing configuration: \n",
            "     lambda 0: 185.54016235801075    lambda 1:  60.215102797900485\n",
            "Pretraining phase..\n",
            "learning phase..\n",
            "Number of Epochs needed to obtain fairness: 117\n",
            "delta p-rule race: 0.2384312945515621\n",
            "delta p-rule sex: 0.4332008879444128\n",
            "delta accuracy: -0.004968944099378869\n"
          ],
          "name": "stdout"
        },
        {
          "output_type": "stream",
          "text": [
            "INFO:smac.intensification.intensification.Intensifier:Challenger (-1.3517) is better than incumbent (-0.7839) on 1 runs.\n",
            "INFO:smac.intensification.intensification.Intensifier:Changes in incumbent:\n",
            "INFO:smac.intensification.intensification.Intensifier:  lambda_0 : 181.16716160747742 -> 185.54016235801075\n",
            "INFO:smac.intensification.intensification.Intensifier:  lambda_1 : 60.5017846917091 -> 60.215102797900485\n",
            "INFO:smac.intensification.intensification.Intensifier:Updated estimated cost of incumbent on 1 runs: -1.3517\n"
          ],
          "name": "stderr"
        },
        {
          "output_type": "stream",
          "text": [
            "Testing configuration: \n",
            "     lambda 0: 38.38624401653409    lambda 1:  81.62079095053586\n",
            "Pretraining phase..\n",
            "learning phase..\n",
            "Number of Epochs needed to obtain fairness: 127\n",
            "delta p-rule race: 0.2926031807288667\n",
            "delta p-rule sex: 0.5951705498550142\n",
            "delta accuracy: -0.04571428571428571\n"
          ],
          "name": "stdout"
        },
        {
          "output_type": "stream",
          "text": [
            "INFO:smac.intensification.intensification.Intensifier:Updated estimated cost of incumbent on 1 runs: -1.3517\n"
          ],
          "name": "stderr"
        },
        {
          "output_type": "stream",
          "text": [
            "Testing configuration: \n",
            "     lambda 0: 195.79686725353656    lambda 1:  16.362649870524194\n",
            "Pretraining phase..\n",
            "learning phase..\n",
            "Number of Epochs needed to obtain fairness: 191\n",
            "delta p-rule race: 0.4445588359112337\n",
            "delta p-rule sex: 0.4284031580291767\n",
            "delta accuracy: -0.009689440993788878\n"
          ],
          "name": "stdout"
        },
        {
          "output_type": "stream",
          "text": [
            "INFO:smac.intensification.intensification.Intensifier:Updated estimated cost of incumbent on 1 runs: -1.3517\n"
          ],
          "name": "stderr"
        },
        {
          "output_type": "stream",
          "text": [
            "Testing configuration: \n",
            "     lambda 0: 185.4094796461984    lambda 1:  131.12685951441853\n",
            "Pretraining phase..\n",
            "learning phase..\n",
            "Number of Epochs needed to obtain fairness: 96\n",
            "delta p-rule race: 0.2684415440319382\n",
            "delta p-rule sex: 0.548214843276875\n",
            "delta accuracy: -0.026583850931677033\n"
          ],
          "name": "stdout"
        },
        {
          "output_type": "stream",
          "text": [
            "INFO:smac.intensification.intensification.Intensifier:Updated estimated cost of incumbent on 1 runs: -1.3517\n"
          ],
          "name": "stderr"
        },
        {
          "output_type": "stream",
          "text": [
            "Testing configuration: \n",
            "     lambda 0: 189.00631262197305    lambda 1:  140.90838199632023\n",
            "Pretraining phase..\n",
            "learning phase..\n",
            "Number of Epochs needed to obtain fairness: 104\n",
            "delta p-rule race: 0.2834047309151597\n",
            "delta p-rule sex: 0.5724888943593155\n",
            "delta accuracy: -0.03527950310559003\n"
          ],
          "name": "stdout"
        },
        {
          "output_type": "stream",
          "text": [
            "INFO:smac.intensification.intensification.Intensifier:Updated estimated cost of incumbent on 1 runs: -1.3517\n"
          ],
          "name": "stderr"
        },
        {
          "output_type": "stream",
          "text": [
            "Testing configuration: \n",
            "     lambda 0: 185.58521967134513    lambda 1:  54.347378083316705\n",
            "Pretraining phase..\n",
            "learning phase..\n",
            "Number of Epochs needed to obtain fairness: 126\n",
            "delta p-rule race: 0.30571657993361034\n",
            "delta p-rule sex: 0.4331280819763783\n",
            "delta accuracy: -0.027329192546583947\n"
          ],
          "name": "stdout"
        },
        {
          "output_type": "stream",
          "text": [
            "INFO:smac.intensification.intensification.Intensifier:Updated estimated cost of incumbent on 1 runs: -1.3517\n"
          ],
          "name": "stderr"
        },
        {
          "output_type": "stream",
          "text": [
            "Testing configuration: \n",
            "     lambda 0: 185.49300522815597    lambda 1:  59.089180923437716\n",
            "Pretraining phase..\n",
            "learning phase..\n",
            "Number of Epochs needed to obtain fairness: 97\n",
            "delta p-rule race: 0.3136301538643511\n",
            "delta p-rule sex: 0.4343821016747344\n",
            "delta accuracy: -0.0536645962732919\n"
          ],
          "name": "stdout"
        },
        {
          "output_type": "stream",
          "text": [
            "INFO:smac.intensification.intensification.Intensifier:Updated estimated cost of incumbent on 1 runs: -1.3517\n"
          ],
          "name": "stderr"
        },
        {
          "output_type": "stream",
          "text": [
            "Testing configuration: \n",
            "     lambda 0: 180.71962045908023    lambda 1:  182.99754521055294\n",
            "Pretraining phase..\n",
            "learning phase..\n",
            "Number of Epochs needed to obtain fairness: 80\n",
            "delta p-rule race: 0.23785705982637328\n",
            "delta p-rule sex: 0.45964170223359324\n",
            "delta accuracy: -0.05341614906832293\n"
          ],
          "name": "stdout"
        },
        {
          "output_type": "stream",
          "text": [
            "INFO:smac.intensification.intensification.Intensifier:Updated estimated cost of incumbent on 1 runs: -1.3517\n"
          ],
          "name": "stderr"
        },
        {
          "output_type": "stream",
          "text": [
            "Testing configuration: \n",
            "     lambda 0: 16.3439441790766    lambda 1:  52.59802830804566\n",
            "Pretraining phase..\n",
            "learning phase..\n",
            "Number of Epochs needed to obtain fairness: 108\n",
            "delta p-rule race: 0.26746782596766216\n",
            "delta p-rule sex: 0.5971116666687462\n",
            "delta accuracy: -0.06509316770186335\n"
          ],
          "name": "stdout"
        },
        {
          "output_type": "stream",
          "text": [
            "INFO:smac.intensification.intensification.Intensifier:Updated estimated cost of incumbent on 1 runs: -1.3517\n"
          ],
          "name": "stderr"
        },
        {
          "output_type": "stream",
          "text": [
            "Testing configuration: \n",
            "     lambda 0: 185.5386900457444    lambda 1:  60.23258786364987\n",
            "Pretraining phase..\n",
            "learning phase..\n",
            "Number of Epochs needed to obtain fairness: 116\n",
            "delta p-rule race: 0.30606573806993376\n",
            "delta p-rule sex: 0.42347824163414344\n",
            "delta accuracy: 0.0019875776397515477\n"
          ],
          "name": "stdout"
        },
        {
          "output_type": "stream",
          "text": [
            "INFO:smac.intensification.intensification.Intensifier:Challenger (-3.6705) is better than incumbent (-1.3517) on 1 runs.\n",
            "INFO:smac.intensification.intensification.Intensifier:Changes in incumbent:\n",
            "INFO:smac.intensification.intensification.Intensifier:  lambda_0 : 185.54016235801075 -> 185.5386900457444\n",
            "INFO:smac.intensification.intensification.Intensifier:  lambda_1 : 60.215102797900485 -> 60.23258786364987\n",
            "INFO:smac.intensification.intensification.Intensifier:Updated estimated cost of incumbent on 1 runs: -3.6705\n"
          ],
          "name": "stderr"
        },
        {
          "output_type": "stream",
          "text": [
            "Testing configuration: \n",
            "     lambda 0: 185.53638742710098    lambda 1:  184.73118573382297\n",
            "Pretraining phase..\n",
            "learning phase..\n",
            "Number of Epochs needed to obtain fairness: 122\n",
            "delta p-rule race: 0.27364919990188274\n",
            "delta p-rule sex: 0.6098902857120532\n",
            "delta accuracy: -0.032795031055900536\n"
          ],
          "name": "stdout"
        },
        {
          "output_type": "stream",
          "text": [
            "INFO:smac.intensification.intensification.Intensifier:Updated estimated cost of incumbent on 1 runs: -3.6705\n"
          ],
          "name": "stderr"
        },
        {
          "output_type": "stream",
          "text": [
            "Testing configuration: \n",
            "     lambda 0: 185.54016235801075    lambda 1:  80.83129228419895\n",
            "Pretraining phase..\n",
            "learning phase..\n",
            "Number of Epochs needed to obtain fairness: 117\n",
            "delta p-rule race: 0.2902347805776264\n",
            "delta p-rule sex: 0.5413874603516571\n",
            "delta accuracy: -0.03925465838509323\n"
          ],
          "name": "stdout"
        },
        {
          "output_type": "stream",
          "text": [
            "INFO:smac.intensification.intensification.Intensifier:Updated estimated cost of incumbent on 1 runs: -3.6705\n"
          ],
          "name": "stderr"
        },
        {
          "output_type": "stream",
          "text": [
            "Testing configuration: \n",
            "     lambda 0: 185.5386900457444    lambda 1:  88.97899112282869\n",
            "Pretraining phase..\n",
            "learning phase..\n",
            "Number of Epochs needed to obtain fairness: 78\n",
            "delta p-rule race: 0.288449226819139\n",
            "delta p-rule sex: 0.46061958764781585\n",
            "delta accuracy: -0.07875776397515521\n"
          ],
          "name": "stdout"
        },
        {
          "output_type": "stream",
          "text": [
            "INFO:smac.intensification.intensification.Intensifier:Updated estimated cost of incumbent on 1 runs: -3.6705\n"
          ],
          "name": "stderr"
        },
        {
          "output_type": "stream",
          "text": [
            "Testing configuration: \n",
            "     lambda 0: 195.79686725353656    lambda 1:  13.157548422601215\n",
            "Pretraining phase..\n",
            "learning phase..\n",
            "Number of Epochs needed to obtain fairness: 167\n",
            "delta p-rule race: 0.41488919713678074\n",
            "delta p-rule sex: 0.40308554924500745\n",
            "delta accuracy: -0.019130434782608674\n"
          ],
          "name": "stdout"
        },
        {
          "output_type": "stream",
          "text": [
            "INFO:smac.intensification.intensification.Intensifier:Updated estimated cost of incumbent on 1 runs: -3.6705\n"
          ],
          "name": "stderr"
        },
        {
          "output_type": "stream",
          "text": [
            "Testing configuration: \n",
            "     lambda 0: 185.5386900457444    lambda 1:  60.30716061898483\n",
            "Pretraining phase..\n",
            "learning phase..\n",
            "Number of Epochs needed to obtain fairness: 125\n",
            "delta p-rule race: 0.32306186502706746\n",
            "delta p-rule sex: 0.40482543829415835\n",
            "delta accuracy: -0.01788819875776393\n"
          ],
          "name": "stdout"
        },
        {
          "output_type": "stream",
          "text": [
            "INFO:smac.intensification.intensification.Intensifier:Updated estimated cost of incumbent on 1 runs: -3.6705\n"
          ],
          "name": "stderr"
        },
        {
          "output_type": "stream",
          "text": [
            "Testing configuration: \n",
            "     lambda 0: 195.79686725353656    lambda 1:  12.5450114059564\n",
            "Pretraining phase..\n",
            "learning phase..\n",
            "Number of Epochs needed to obtain fairness: 173\n",
            "delta p-rule race: 0.43471108222944466\n",
            "delta p-rule sex: 0.43124363833861257\n",
            "delta accuracy: -0.00521739130434784\n"
          ],
          "name": "stdout"
        },
        {
          "output_type": "stream",
          "text": [
            "INFO:smac.intensification.intensification.Intensifier:Updated estimated cost of incumbent on 1 runs: -3.6705\n"
          ],
          "name": "stderr"
        },
        {
          "output_type": "stream",
          "text": [
            "Testing configuration: \n",
            "     lambda 0: 46.169753349693785    lambda 1:  57.189650601206935\n",
            "Pretraining phase..\n",
            "learning phase..\n",
            "Number of Epochs needed to obtain fairness: 115\n",
            "delta p-rule race: 0.25569891752209195\n",
            "delta p-rule sex: 0.5850315913103938\n",
            "delta accuracy: -0.05167701863354035\n"
          ],
          "name": "stdout"
        },
        {
          "output_type": "stream",
          "text": [
            "INFO:smac.intensification.intensification.Intensifier:Updated estimated cost of incumbent on 1 runs: -3.6705\n"
          ],
          "name": "stderr"
        },
        {
          "output_type": "stream",
          "text": [
            "Testing configuration: \n",
            "     lambda 0: 156.72239366973307    lambda 1:  90.6228873503198\n",
            "Pretraining phase..\n",
            "learning phase..\n",
            "Number of Epochs needed to obtain fairness: 87\n",
            "delta p-rule race: 0.30097456679496604\n",
            "delta p-rule sex: 0.41160041839929823\n",
            "delta accuracy: -0.039751552795031064\n"
          ],
          "name": "stdout"
        },
        {
          "output_type": "stream",
          "text": [
            "INFO:smac.intensification.intensification.Intensifier:Updated estimated cost of incumbent on 1 runs: -3.6705\n"
          ],
          "name": "stderr"
        },
        {
          "output_type": "stream",
          "text": [
            "Testing configuration: \n",
            "     lambda 0: 195.79686725353656    lambda 1:  4.313415433301127\n",
            "Pretraining phase..\n",
            "learning phase..\n",
            "Fairness not reached in 300 epochs:\n"
          ],
          "name": "stdout"
        },
        {
          "output_type": "stream",
          "text": [
            "INFO:smac.intensification.intensification.Intensifier:Updated estimated cost of incumbent on 1 runs: -3.6705\n"
          ],
          "name": "stderr"
        },
        {
          "output_type": "stream",
          "text": [
            "Testing configuration: \n",
            "     lambda 0: 123.26218757819704    lambda 1:  146.8077975690301\n",
            "Pretraining phase..\n",
            "learning phase..\n",
            "Number of Epochs needed to obtain fairness: 125\n",
            "delta p-rule race: 0.2905464419236169\n",
            "delta p-rule sex: 0.5565536357845404\n",
            "delta accuracy: -0.0551552795031055\n"
          ],
          "name": "stdout"
        },
        {
          "output_type": "stream",
          "text": [
            "INFO:smac.intensification.intensification.Intensifier:Updated estimated cost of incumbent on 1 runs: -3.6705\n"
          ],
          "name": "stderr"
        },
        {
          "output_type": "stream",
          "text": [
            "Testing configuration: \n",
            "     lambda 0: 161.22547884915866    lambda 1:  60.77312866420032\n",
            "Pretraining phase..\n",
            "learning phase..\n",
            "Number of Epochs needed to obtain fairness: 109\n",
            "delta p-rule race: 0.30976658753826647\n",
            "delta p-rule sex: 0.45983444127340056\n",
            "delta accuracy: -0.022608695652173938\n"
          ],
          "name": "stdout"
        },
        {
          "output_type": "stream",
          "text": [
            "INFO:smac.intensification.intensification.Intensifier:Updated estimated cost of incumbent on 1 runs: -3.6705\n"
          ],
          "name": "stderr"
        },
        {
          "output_type": "stream",
          "text": [
            "Testing configuration: \n",
            "     lambda 0: 193.76431825441793    lambda 1:  60.243002691247575\n",
            "Pretraining phase..\n",
            "learning phase..\n",
            "Number of Epochs needed to obtain fairness: 99\n",
            "delta p-rule race: 0.3182444614079244\n",
            "delta p-rule sex: 0.4604308612953248\n",
            "delta accuracy: 0.003975155279503095\n"
          ],
          "name": "stdout"
        },
        {
          "output_type": "stream",
          "text": [
            "INFO:smac.intensification.intensification.Intensifier:Updated estimated cost of incumbent on 1 runs: -3.6705\n"
          ],
          "name": "stderr"
        },
        {
          "output_type": "stream",
          "text": [
            "Testing configuration: \n",
            "     lambda 0: 185.58521967134513    lambda 1:  44.377348925057575\n",
            "Pretraining phase..\n",
            "learning phase..\n",
            "Number of Epochs needed to obtain fairness: 114\n",
            "delta p-rule race: 0.3861815925205837\n",
            "delta p-rule sex: 0.4403003868246977\n",
            "delta accuracy: -0.06335403726708067\n"
          ],
          "name": "stdout"
        },
        {
          "output_type": "stream",
          "text": [
            "INFO:smac.intensification.intensification.Intensifier:Updated estimated cost of incumbent on 1 runs: -3.6705\n"
          ],
          "name": "stderr"
        },
        {
          "output_type": "stream",
          "text": [
            "Testing configuration: \n",
            "     lambda 0: 193.86354496554438    lambda 1:  60.243002691247575\n",
            "Pretraining phase..\n",
            "learning phase..\n",
            "Number of Epochs needed to obtain fairness: 110\n",
            "delta p-rule race: 0.32464080864575295\n",
            "delta p-rule sex: 0.41859598119642255\n",
            "delta accuracy: -0.03577639751552797\n"
          ],
          "name": "stdout"
        },
        {
          "output_type": "stream",
          "text": [
            "INFO:smac.intensification.intensification.Intensifier:Updated estimated cost of incumbent on 1 runs: -3.6705\n"
          ],
          "name": "stderr"
        },
        {
          "output_type": "stream",
          "text": [
            "Testing configuration: \n",
            "     lambda 0: 185.5386900457444    lambda 1:  59.97550402415032\n",
            "Pretraining phase..\n",
            "learning phase..\n",
            "Number of Epochs needed to obtain fairness: 106\n",
            "delta p-rule race: 0.2882460303803758\n",
            "delta p-rule sex: 0.46561695791554003\n",
            "delta accuracy: -0.017391304347825987\n"
          ],
          "name": "stdout"
        },
        {
          "output_type": "stream",
          "text": [
            "INFO:smac.intensification.intensification.Intensifier:Updated estimated cost of incumbent on 1 runs: -3.6705\n"
          ],
          "name": "stderr"
        },
        {
          "output_type": "stream",
          "text": [
            "Testing configuration: \n",
            "     lambda 0: 185.5386900457444    lambda 1:  82.86137399181507\n",
            "Pretraining phase..\n",
            "learning phase..\n",
            "Number of Epochs needed to obtain fairness: 135\n",
            "delta p-rule race: 0.29567681313552185\n",
            "delta p-rule sex: 0.5963132832043672\n",
            "delta accuracy: -0.003975155279503095\n"
          ],
          "name": "stdout"
        },
        {
          "output_type": "stream",
          "text": [
            "INFO:smac.intensification.intensification.Intensifier:Updated estimated cost of incumbent on 1 runs: -3.6705\n"
          ],
          "name": "stderr"
        },
        {
          "output_type": "stream",
          "text": [
            "Testing configuration: \n",
            "     lambda 0: 185.5386900457444    lambda 1:  92.3053903887846\n",
            "Pretraining phase..\n",
            "learning phase..\n",
            "Number of Epochs needed to obtain fairness: 81\n",
            "delta p-rule race: 0.2495533475080104\n",
            "delta p-rule sex: 0.40588526693176286\n",
            "delta accuracy: -0.022360248447204967\n"
          ],
          "name": "stdout"
        },
        {
          "output_type": "stream",
          "text": [
            "INFO:smac.intensification.intensification.Intensifier:Updated estimated cost of incumbent on 1 runs: -3.6705\n"
          ],
          "name": "stderr"
        },
        {
          "output_type": "stream",
          "text": [
            "Testing configuration: \n",
            "     lambda 0: 186.90397027969885    lambda 1:  135.51586488350438\n",
            "Pretraining phase..\n",
            "learning phase..\n",
            "Number of Epochs needed to obtain fairness: 93\n",
            "delta p-rule race: 0.2575259534922235\n",
            "delta p-rule sex: 0.4565342136188469\n",
            "delta accuracy: -0.01540372670807455\n"
          ],
          "name": "stdout"
        },
        {
          "output_type": "stream",
          "text": [
            "INFO:smac.intensification.intensification.Intensifier:Updated estimated cost of incumbent on 1 runs: -3.6705\n"
          ],
          "name": "stderr"
        },
        {
          "output_type": "stream",
          "text": [
            "Testing configuration: \n",
            "     lambda 0: 196.39448402310242    lambda 1:  4.313415433301127\n",
            "Pretraining phase..\n",
            "learning phase..\n",
            "Fairness not reached in 300 epochs:\n"
          ],
          "name": "stdout"
        },
        {
          "output_type": "stream",
          "text": [
            "INFO:smac.intensification.intensification.Intensifier:Updated estimated cost of incumbent on 1 runs: -3.6705\n"
          ],
          "name": "stderr"
        },
        {
          "output_type": "stream",
          "text": [
            "Testing configuration: \n",
            "     lambda 0: 184.6222408526721    lambda 1:  61.66597263942724\n",
            "Pretraining phase..\n",
            "learning phase..\n",
            "Number of Epochs needed to obtain fairness: 107\n",
            "delta p-rule race: 0.3219269667789185\n",
            "delta p-rule sex: 0.428657439672353\n",
            "delta accuracy: -0.05341614906832293\n"
          ],
          "name": "stdout"
        },
        {
          "output_type": "stream",
          "text": [
            "INFO:smac.intensification.intensification.Intensifier:Updated estimated cost of incumbent on 1 runs: -3.6705\n"
          ],
          "name": "stderr"
        },
        {
          "output_type": "stream",
          "text": [
            "Testing configuration: \n",
            "     lambda 0: 87.653406933952    lambda 1:  107.11694543532101\n",
            "Pretraining phase..\n",
            "learning phase..\n",
            "Number of Epochs needed to obtain fairness: 93\n",
            "delta p-rule race: 0.27659395314370716\n",
            "delta p-rule sex: 0.6042737214594167\n",
            "delta accuracy: -0.03527950310559003\n"
          ],
          "name": "stdout"
        },
        {
          "output_type": "stream",
          "text": [
            "INFO:smac.intensification.intensification.Intensifier:Updated estimated cost of incumbent on 1 runs: -3.6705\n"
          ],
          "name": "stderr"
        },
        {
          "output_type": "stream",
          "text": [
            "Testing configuration: \n",
            "     lambda 0: 187.9472181950678    lambda 1:  83.18570091680597\n",
            "Pretraining phase..\n",
            "learning phase..\n",
            "Number of Epochs needed to obtain fairness: 83\n",
            "delta p-rule race: 0.31417684080541874\n",
            "delta p-rule sex: 0.4196345837592377\n",
            "delta accuracy: -0.026832298136646004\n"
          ],
          "name": "stdout"
        },
        {
          "output_type": "stream",
          "text": [
            "INFO:smac.intensification.intensification.Intensifier:Updated estimated cost of incumbent on 1 runs: -3.6705\n"
          ],
          "name": "stderr"
        },
        {
          "output_type": "stream",
          "text": [
            "Testing configuration: \n",
            "     lambda 0: 117.87111258018687    lambda 1:  27.242895348891988\n",
            "Pretraining phase..\n",
            "learning phase..\n",
            "Number of Epochs needed to obtain fairness: 127\n",
            "delta p-rule race: 0.3470141649818773\n",
            "delta p-rule sex: 0.42831323484603706\n",
            "delta accuracy: -0.04695652173913034\n"
          ],
          "name": "stdout"
        },
        {
          "output_type": "stream",
          "text": [
            "INFO:smac.intensification.intensification.Intensifier:Updated estimated cost of incumbent on 1 runs: -3.6705\n"
          ],
          "name": "stderr"
        },
        {
          "output_type": "stream",
          "text": [
            "Testing configuration: \n",
            "     lambda 0: 81.92041760461338    lambda 1:  60.24498366472428\n",
            "Pretraining phase..\n",
            "learning phase..\n",
            "Number of Epochs needed to obtain fairness: 102\n",
            "delta p-rule race: 0.2804956298100151\n",
            "delta p-rule sex: 0.5690707292321735\n",
            "delta accuracy: -0.037267080745341574\n"
          ],
          "name": "stdout"
        },
        {
          "output_type": "stream",
          "text": [
            "INFO:smac.intensification.intensification.Intensifier:Updated estimated cost of incumbent on 1 runs: -3.6705\n"
          ],
          "name": "stderr"
        },
        {
          "output_type": "stream",
          "text": [
            "Testing configuration: \n",
            "     lambda 0: 69.65187206517717    lambda 1:  60.24498366472428\n",
            "Pretraining phase..\n",
            "learning phase..\n",
            "Number of Epochs needed to obtain fairness: 131\n",
            "delta p-rule race: 0.28547619416410186\n",
            "delta p-rule sex: 0.5428692541167394\n",
            "delta accuracy: -0.003726708074534235\n"
          ],
          "name": "stdout"
        },
        {
          "output_type": "stream",
          "text": [
            "INFO:smac.intensification.intensification.Intensifier:Updated estimated cost of incumbent on 1 runs: -3.6705\n"
          ],
          "name": "stderr"
        },
        {
          "output_type": "stream",
          "text": [
            "Testing configuration: \n",
            "     lambda 0: 22.774436128409242    lambda 1:  60.20299056254771\n",
            "Pretraining phase..\n",
            "learning phase..\n",
            "Number of Epochs needed to obtain fairness: 120\n",
            "delta p-rule race: 0.25438885175074133\n",
            "delta p-rule sex: 0.5773201183227945\n",
            "delta accuracy: -0.08074534161490676\n"
          ],
          "name": "stdout"
        },
        {
          "output_type": "stream",
          "text": [
            "INFO:smac.intensification.intensification.Intensifier:Updated estimated cost of incumbent on 1 runs: -3.6705\n"
          ],
          "name": "stderr"
        },
        {
          "output_type": "stream",
          "text": [
            "Testing configuration: \n",
            "     lambda 0: 70.63807801305552    lambda 1:  83.25859918144651\n",
            "Pretraining phase..\n",
            "learning phase..\n",
            "Number of Epochs needed to obtain fairness: 101\n",
            "delta p-rule race: 0.2923536940665853\n",
            "delta p-rule sex: 0.6066698283305956\n",
            "delta accuracy: -0.04372670807453416\n"
          ],
          "name": "stdout"
        },
        {
          "output_type": "stream",
          "text": [
            "INFO:smac.intensification.intensification.Intensifier:Updated estimated cost of incumbent on 1 runs: -3.6705\n"
          ],
          "name": "stderr"
        },
        {
          "output_type": "stream",
          "text": [
            "Testing configuration: \n",
            "     lambda 0: 185.5386900457444    lambda 1:  60.22496442257148\n",
            "Pretraining phase..\n",
            "learning phase..\n",
            "Number of Epochs needed to obtain fairness: 105\n",
            "delta p-rule race: 0.3461062454239089\n",
            "delta p-rule sex: 0.42232423402550257\n",
            "delta accuracy: -0.03875776397515529\n"
          ],
          "name": "stdout"
        },
        {
          "output_type": "stream",
          "text": [
            "INFO:smac.intensification.intensification.Intensifier:Updated estimated cost of incumbent on 1 runs: -3.6705\n"
          ],
          "name": "stderr"
        },
        {
          "output_type": "stream",
          "text": [
            "Testing configuration: \n",
            "     lambda 0: 172.0382661549498    lambda 1:  108.6083337840837\n",
            "Pretraining phase..\n",
            "learning phase..\n",
            "Number of Epochs needed to obtain fairness: 127\n",
            "delta p-rule race: 0.28268431833230323\n",
            "delta p-rule sex: 0.5452786848279854\n",
            "delta accuracy: -0.017142857142857237\n"
          ],
          "name": "stdout"
        },
        {
          "output_type": "stream",
          "text": [
            "INFO:smac.intensification.intensification.Intensifier:Updated estimated cost of incumbent on 1 runs: -3.6705\n"
          ],
          "name": "stderr"
        },
        {
          "output_type": "stream",
          "text": [
            "Testing configuration: \n",
            "     lambda 0: 65.03165512383906    lambda 1:  60.24498366472428\n",
            "Pretraining phase..\n",
            "learning phase..\n",
            "Number of Epochs needed to obtain fairness: 75\n",
            "delta p-rule race: 0.27383701193208454\n",
            "delta p-rule sex: 0.5434878781088766\n",
            "delta accuracy: -0.06881987577639748\n"
          ],
          "name": "stdout"
        },
        {
          "output_type": "stream",
          "text": [
            "INFO:smac.intensification.intensification.Intensifier:Updated estimated cost of incumbent on 1 runs: -3.6705\n"
          ],
          "name": "stderr"
        },
        {
          "output_type": "stream",
          "text": [
            "Testing configuration: \n",
            "     lambda 0: 32.785116073885014    lambda 1:  162.8451143973015\n",
            "Pretraining phase..\n",
            "learning phase..\n",
            "Number of Epochs needed to obtain fairness: 98\n",
            "delta p-rule race: 0.2740356003333688\n",
            "delta p-rule sex: 0.5805492230649658\n",
            "delta accuracy: -0.062360248447205\n"
          ],
          "name": "stdout"
        },
        {
          "output_type": "stream",
          "text": [
            "INFO:smac.intensification.intensification.Intensifier:Updated estimated cost of incumbent on 1 runs: -3.6705\n"
          ],
          "name": "stderr"
        },
        {
          "output_type": "stream",
          "text": [
            "Testing configuration: \n",
            "     lambda 0: 68.65483930084963    lambda 1:  9.682183989593486\n",
            "Pretraining phase..\n",
            "learning phase..\n",
            "Number of Epochs needed to obtain fairness: 158\n",
            "delta p-rule race: 0.334660581973542\n",
            "delta p-rule sex: 0.4236319618418639\n",
            "delta accuracy: -0.022608695652173938\n"
          ],
          "name": "stdout"
        },
        {
          "output_type": "stream",
          "text": [
            "INFO:smac.stats.stats.Stats:##########################################################\n",
            "INFO:smac.stats.stats.Stats:Statistics:\n",
            "INFO:smac.stats.stats.Stats:#Incumbent changed: 4\n",
            "INFO:smac.stats.stats.Stats:#Target algorithm runs: 50 / 50.0\n",
            "INFO:smac.stats.stats.Stats:#Configurations: 50\n",
            "INFO:smac.stats.stats.Stats:Used wallclock time: 2668.56 / inf sec \n",
            "INFO:smac.stats.stats.Stats:Used target algorithm runtime: 2636.32 / inf sec\n",
            "INFO:smac.stats.stats.Stats:##########################################################\n",
            "INFO:smac.facade.smac_hpo_facade.SMAC4HPO:Final Incumbent: Configuration:\n",
            "  lambda_0, Value: 185.5386900457444\n",
            "  lambda_1, Value: 60.23258786364987\n",
            "\n",
            "INFO:smac.facade.smac_hpo_facade.SMAC4HPO:Estimated cost of incumbent: -3.670518\n"
          ],
          "name": "stderr"
        }
      ]
    },
    {
      "cell_type": "code",
      "metadata": {
        "id": "ILnJAkOpDGQV",
        "colab_type": "code",
        "colab": {}
      },
      "source": [
        "delta_fair_race = pd.Series([0.288660357600218,0.30819668686397617,0.3811287617689664,0.27383973398603945,0.2748347303313955,0.2975342735379234,0.27876457644789787,\n",
        "                   0.2384312945515621,0.2926031807288667,0.4445588359112337,0.2684415440319382,0.2834047309151597,0.30571657993361034,0.3136301538643511,\n",
        "                   0.23785705982637328,0.26746782596766216,0.30606573806993376,0.27364919990188274,0.2902347805776264,0.288449226819139,0.41488919713678074,\n",
        "                   0.32306186502706746,0.43471108222944466,0.25569891752209195,0.30097456679496604,0.2905464419236169,0.30976658753826647,0.3182444614079244,\n",
        "                   0.3861815925205837,0.32464080864575295,0.2882460303803758,0.29567681313552185,0.2495533475080104,0.2575259534922235,0.3219269667789185,\n",
        "                   0.27659395314370716,0.31417684080541874,0.3470141649818773,0.2804956298100151,0.28547619416410186,0.25438885175074133,0.2923536940665853,\n",
        "                   0.3461062454239089,0.28268431833230323,0.27383701193208454,0.2740356003333688,0.334660581973542])"
      ],
      "execution_count": 0,
      "outputs": []
    },
    {
      "cell_type": "code",
      "metadata": {
        "id": "RG3wMP7D0Vjc",
        "colab_type": "code",
        "colab": {}
      },
      "source": [
        "delta_fair_sex = pd.Series([0.6032301988707505,0.5366502175177621,0.45683147828334186,0.6233591873523016,0.5149263671351405,0.6016514722700987,0.5392531511865362,\n",
        "                  0.4332008879444128,0.5951705498550142,0.4284031580291767,0.548214843276875,0.5724888943593155,0.4331280819763783,0.4343821016747344,\n",
        "                  0.45964170223359324,0.5971116666687462,0.42347824163414344,0.6098902857120532,0.5413874603516571,0.46061958764781585,0.40308554924500745,\n",
        "                  0.40482543829415835,0.43124363833861257,0.5850315913103938,0.41160041839929823,0.5565536357845404,0.45983444127340056,0.4604308612953248,\n",
        "                  0.4403003868246977,0.41859598119642255,0.46561695791554003,0.5963132832043672,0.40588526693176286,0.4565342136188469,0.428657439672353,\n",
        "                  0.6042737214594167,0.4196345837592377,0.42831323484603706,0.5690707292321735,0.5428692541167394,0.5773201183227945,0.6066698283305956,\n",
        "                  0.42232423402550257,0.5452786848279854,0.5434878781088766,0.5805492230649658,0.42363196184186398])"
      ],
      "execution_count": 0,
      "outputs": []
    },
    {
      "cell_type": "code",
      "metadata": {
        "id": "tP6Q5pi_0xFX",
        "colab_type": "code",
        "colab": {}
      },
      "source": [
        "delta_accuracy = pd.Series([-0.029068322981366412,-0.01788819875776393,-0.022111801242235996,-0.05093167701863355,-0.032298136645962705,-0.05440993788819881,-0.01043478260869568,\n",
        "                  -0.004968944099378869,-0.04571428571428571,-0.009689440993788878,-0.026583850931677033,-0.03527950310559003,-0.027329192546583947,-0.0536645962732919,\n",
        "                  -0.05341614906832293,-0.06509316770186335,0.0019875776397515477,-0.032795031055900536,-0.03925465838509323,-0.07875776397515521,-0.019130434782608674,\n",
        "                  -0.01788819875776393,-0.00521739130434784,-0.05167701863354035,-0.039751552795031064,-0.0551552795031055,-0.022608695652173938,0.003975155279503095,\n",
        "                  -0.06335403726708067,-0.03577639751552797,-0.017391304347825987,-0.003975155279503095,-0.022360248447204967,-0.01540372670807455,-0.05341614906832293,\n",
        "                  -0.03527950310559003,-0.026832298136646004,-0.04695652173913034,-0.037267080745341574,-0.003726708074534235,-0.08074534161490676,-0.04372670807453416,\n",
        "                  -0.03875776397515529,-0.017142857142857237,-0.06881987577639748,-0.062360248447205,-0.022608695652173938])"
      ],
      "execution_count": 0,
      "outputs": []
    },
    {
      "cell_type": "code",
      "metadata": {
        "id": "1zk4cts2Tma3",
        "colab_type": "code",
        "colab": {}
      },
      "source": [
        "opt_metrics = pd.concat([delta_fair_race, delta_fair_sex, delta_accuracy], axis=1)\n",
        "opt_metrics.columns = [\"p-rule race\", \"p-rule sex\", \"accuracy\"]"
      ],
      "execution_count": 0,
      "outputs": []
    },
    {
      "cell_type": "code",
      "metadata": {
        "id": "E3H6D75nfo1H",
        "colab_type": "code",
        "colab": {}
      },
      "source": [
        "opt_metrics[\"bestseen\"] = 0\n",
        "opt_metrics[\"bestseen\"][1,2,7,8,17] = 1"
      ],
      "execution_count": 0,
      "outputs": []
    },
    {
      "cell_type": "code",
      "metadata": {
        "id": "6D4Ts_zmfnSd",
        "colab_type": "code",
        "colab": {}
      },
      "source": [
        "markers_on = [1,2,7,8,17]"
      ],
      "execution_count": 0,
      "outputs": []
    },
    {
      "cell_type": "code",
      "metadata": {
        "id": "vNC1itzmWOrZ",
        "colab_type": "code",
        "outputId": "0b90fbc4-0db4-4660-e5da-e9b74a6cf7be",
        "colab": {
          "base_uri": "https://localhost:8080/",
          "height": 409
        }
      },
      "source": [
        "plt.figure(figsize=(12,6))\n",
        "plt.plot('p-rule race', data=opt_metrics, markevery=markers_on, \n",
        "         marker=\"o\", markerfacecolor='red', markersize=8, \n",
        "         color='skyblue', linewidth=2)\n",
        "plt.plot('p-rule sex', data=opt_metrics, markevery=markers_on,\n",
        "         marker=\"o\", markerfacecolor='red', markersize=8, \n",
        "         color='skyblue', linewidth=2, linestyle=':')\n",
        "plt.plot('accuracy', data=opt_metrics, markevery=markers_on,  \n",
        "         marker=\"o\", markerfacecolor='red', markersize=8, \n",
        "         color='steelblue', linewidth=2, linestyle='-.')\n",
        "\n",
        "plt.xlabel('iterations')\n",
        "plt.ylabel('delta')\n",
        "\n",
        "plt.axvline(x=1, linestyle=':', color='red')\n",
        "plt.axvline(x=2, linestyle=':', color='red')\n",
        "plt.axvline(x=7, linestyle=':', color='red')\n",
        "plt.axvline(x=8, linestyle=':', color='red')\n",
        "plt.axvline(x=17, linestyle=':', color='red')\n",
        "\n",
        "plt.ylim(-0.15,0.7)\n",
        "\n",
        "line_1 = Line2D([0], [0], color='skyblue', linewidth=3, linestyle=':')\n",
        "line_2 = Line2D([0], [0], color='skyblue', linewidth=3)\n",
        "line_3 = Line2D([0], [0], color='steelblue', linewidth=3, linestyle='-.')\n",
        "line_4 = Line2D([0], [0], color='red', linewidth=3, linestyle=':')\n",
        "lines=[line_1, line_2, line_3, line_4]\n",
        "labels = ['p-rule race', 'p-rule sex', 'accuracy', 'bestseen']\n",
        "plt.legend(lines, labels, loc=5, prop={'size': 13})\n",
        "\n"
      ],
      "execution_count": 0,
      "outputs": [
        {
          "output_type": "execute_result",
          "data": {
            "text/plain": [
              "<matplotlib.legend.Legend at 0x7ff269c2b780>"
            ]
          },
          "metadata": {
            "tags": []
          },
          "execution_count": 12
        },
        {
          "output_type": "display_data",
          "data": {
            "image/png": "[encoded data removed]",
            "text/plain": [
              "<Figure size 864x432 with 1 Axes>"
            ]
          },
          "metadata": {
            "tags": [],
            "needs_background": "light"
          }
        }
      ]
    },
    {
      "cell_type": "markdown",
      "metadata": {
        "id": "XKrmukkXHFQn",
        "colab_type": "text"
      },
      "source": [
        "## Evaluations"
      ]
    },
    {
      "cell_type": "code",
      "metadata": {
        "id": "_zy2VxUQDVtL",
        "colab_type": "code",
        "colab": {}
      },
      "source": [
        "# plot the evolution of \"best seen\" \n",
        "def plot_bestseen(dic, runs):\n",
        "  x_ax = np.arange(runs)\n",
        "  plt.figure(figsize=(15, 8))\n",
        "  ax = plt.subplot(111)\n",
        "  for alg in dic:\n",
        "    ax.plot(x_ax, dic[alg]['bestseen'], label=alg)\n",
        "  ax.legend(loc='upper center', \n",
        "            bbox_to_anchor=(0.5, -0.05), \n",
        "            shadow=True, \n",
        "            ncol=2)\n",
        "  plt.title('Best Seen')\n",
        "  plt.show()"
      ],
      "execution_count": 0,
      "outputs": []
    },
    {
      "cell_type": "code",
      "metadata": {
        "id": "9wqJQ9pA9Phh",
        "colab_type": "code",
        "outputId": "755e293d-9995-4290-cd20-8ff7bbd68580",
        "colab": {
          "base_uri": "https://localhost:8080/",
          "height": 383
        }
      },
      "source": [
        "plot_bestseen(res, 50)"
      ],
      "execution_count": 0,
      "outputs": [
        {
          "output_type": "display_data",
          "data": {
            "image/png": "[encoded data removed]",
            "text/plain": [
              "<Figure size 1080x576 with 1 Axes>"
            ]
          },
          "metadata": {
            "tags": [],
            "needs_background": "light"
          }
        }
      ]
    },
    {
      "cell_type": "code",
      "metadata": {
        "id": "OtSjViVmEE-S",
        "colab_type": "code",
        "outputId": "339ea271-37f3-45e8-e279-5232303e8cb4",
        "colab": {
          "base_uri": "https://localhost:8080/",
          "height": 224
        }
      },
      "source": [
        "res['HPO - EI']"
      ],
      "execution_count": 0,
      "outputs": [
        {
          "output_type": "execute_result",
          "data": {
            "text/plain": [
              "{'best_config': [185.5386900457444, 60.23258786364987],\n",
              " 'bestseen': array([1.3068256 , 1.34992797, 1.47229289, 1.47229289, 1.47229289,\n",
              "        1.47229289, 1.47229289, 1.78393366, 2.35165977, 2.35165977,\n",
              "        2.35165977, 2.35165977, 2.35165977, 2.35165977, 2.35165977,\n",
              "        2.35165977, 2.35165977, 4.67051815, 4.67051815, 4.67051815,\n",
              "        4.67051815, 4.67051815, 4.67051815, 4.67051815, 4.67051815,\n",
              "        4.67051815, 4.67051815, 4.67051815, 4.67051815, 4.67051815,\n",
              "        4.67051815, 4.67051815, 4.67051815, 4.67051815, 4.67051815,\n",
              "        4.67051815, 4.67051815, 4.67051815, 4.67051815, 4.67051815,\n",
              "        4.67051815, 4.67051815, 4.67051815, 4.67051815, 4.67051815,\n",
              "        4.67051815, 4.67051815, 4.67051815, 4.67051815, 4.67051815])}"
            ]
          },
          "metadata": {
            "tags": []
          },
          "execution_count": 224
        }
      ]
    },
    {
      "cell_type": "code",
      "metadata": {
        "id": "F3g5XFNJ53mq",
        "colab_type": "code",
        "colab": {}
      },
      "source": [
        "cfg_ei={\"lambda_0\":res['HPO - EI']['best_config'][0],\n",
        "     \"lambda_1\":res['HPO - EI']['best_config'][1]}"
      ],
      "execution_count": 0,
      "outputs": []
    },
    {
      "cell_type": "code",
      "metadata": {
        "id": "DGpmVaiqACk_",
        "colab_type": "code",
        "colab": {}
      },
      "source": [
        "def can(cfg):\n",
        "    print(\"Testing configuration: \\n     lambda 0:\", cfg['lambda_0'], \"   lambda 1: \",cfg['lambda_1'])\n",
        "    n_features=X_train.shape[1]\n",
        "    n_sensitive=Z_train.shape[1]\n",
        "    pre_epochs=5\n",
        "    pre_verbose=0 \n",
        "    val_data=(X_val, y_val, Z_val)\n",
        "    epochs=300\n",
        "    stop_cond = 80\n",
        "\n",
        "    classifier_inputs = Input(shape=(n_features,), name=\"clf_input\")\n",
        "    adversial_inputs = Input(shape=(1,), name=\"adv_input\")\n",
        "\n",
        "    classifier = build_classifier(classifier_inputs)\n",
        "    adversial = build_adversial(adversial_inputs, n_sensitive)\n",
        "\n",
        "    classifier = compile_classifier(classifier)\n",
        "    can = compile_can(classifier_inputs, classifier, adversial, cfg[\"lambda_0\"], cfg[\"lambda_1\"])\n",
        "    adversial = compile_adversial(classifier_inputs, classifier, adversial, n_sensitive)\n",
        "    \n",
        "    pretrain(X_train, y_train, Z_train, classifier, adversial, verbose=pre_verbose, epochs=pre_epochs)\n",
        "\n",
        "    fitted = fit(X_train, y_train, Z_train, classifier, adversial, can, \n",
        "        validation_data=val_data,\n",
        "        epochs=epochs, stop_condition=stop_cond, plot_dist=True,\n",
        "        save_figs=True)\n",
        "        \n",
        "    return classifier\n",
        "\n"
      ],
      "execution_count": 0,
      "outputs": []
    },
    {
      "cell_type": "code",
      "metadata": {
        "id": "em1CGZvZEft2",
        "colab_type": "code",
        "outputId": "c624a50e-f812-409f-ac88-ef438f1214d9",
        "colab": {
          "base_uri": "https://localhost:8080/",
          "height": 273
        }
      },
      "source": [
        "can_ei = can(cfg_ei)\n"
      ],
      "execution_count": 0,
      "outputs": [
        {
          "output_type": "display_data",
          "data": {
            "image/png": "[encoded data removed]",
            "text/plain": [
              "<Figure size 720x288 with 2 Axes>"
            ]
          },
          "metadata": {
            "tags": [],
            "needs_background": "light"
          }
        },
        {
          "output_type": "stream",
          "text": [
            "Number of Epochs needed to obtain fairness: 111\n",
            "delta p-rule race: 0.3008778128756404\n",
            "delta p-rule sex: 0.42688143753293323\n",
            "delta accuracy: -0.007204968944099388\n"
          ],
          "name": "stdout"
        }
      ]
    },
    {
      "cell_type": "code",
      "metadata": {
        "id": "Y_EQHnvbWviS",
        "colab_type": "code",
        "colab": {}
      },
      "source": [
        "probs_can_ei = can_ei.predict(X_test)\n",
        "preds_can_ei = probs_can_ei>0.5"
      ],
      "execution_count": 0,
      "outputs": []
    },
    {
      "cell_type": "code",
      "metadata": {
        "id": "83aOYqCicpOb",
        "colab_type": "code",
        "outputId": "3b6c23fb-14d8-4992-dc4d-90f1f3829e4d",
        "colab": {
          "base_uri": "https://localhost:8080/",
          "height": 221
        }
      },
      "source": [
        "CR = classification_report(y_test, preds_can_ei)\n",
        "cm = confusion_matrix(y_test, preds_can_ei)\n",
        "\n",
        "print(\"CAN\")\n",
        "print(CR)\n",
        "print(cm)"
      ],
      "execution_count": 0,
      "outputs": [
        {
          "output_type": "stream",
          "text": [
            "CAN\n",
            "              precision    recall  f1-score   support\n",
            "\n",
            "           0       0.90      0.78      0.83      6463\n",
            "           1       0.53      0.74      0.61      2162\n",
            "\n",
            "    accuracy                           0.77      8625\n",
            "   macro avg       0.71      0.76      0.72      8625\n",
            "weighted avg       0.80      0.77      0.78      8625\n",
            "\n",
            "[[5026 1437]\n",
            " [ 571 1591]]\n"
          ],
          "name": "stdout"
        }
      ]
    },
    {
      "cell_type": "code",
      "metadata": {
        "id": "wunZVuktdIbM",
        "colab_type": "code",
        "colab": {}
      },
      "source": [
        "preds_b = probs_b>0.5"
      ],
      "execution_count": 0,
      "outputs": []
    },
    {
      "cell_type": "code",
      "metadata": {
        "id": "miNxCd2IdR40",
        "colab_type": "code",
        "outputId": "c8b99c08-3c74-4013-8502-0577fab734c5",
        "colab": {
          "base_uri": "https://localhost:8080/",
          "height": 221
        }
      },
      "source": [
        "CR = classification_report(y_test, preds_b)\n",
        "cm = confusion_matrix(y_test, preds_b)\n",
        "\n",
        "print(\"baseline\")\n",
        "print(CR)\n",
        "print(cm)"
      ],
      "execution_count": 0,
      "outputs": [
        {
          "output_type": "stream",
          "text": [
            "baseline\n",
            "              precision    recall  f1-score   support\n",
            "\n",
            "           0       0.94      0.75      0.83      6463\n",
            "           1       0.53      0.86      0.66      2162\n",
            "\n",
            "    accuracy                           0.77      8625\n",
            "   macro avg       0.74      0.80      0.74      8625\n",
            "weighted avg       0.84      0.77      0.79      8625\n",
            "\n",
            "[[4819 1644]\n",
            " [ 303 1859]]\n"
          ],
          "name": "stdout"
        }
      ]
    },
    {
      "cell_type": "code",
      "metadata": {
        "id": "Cz6fXb_Wyw5t",
        "colab_type": "code",
        "colab": {}
      },
      "source": [
        "from google.colab import files\n",
        "files.download('/content/output00000070.png')"
      ],
      "execution_count": 0,
      "outputs": []
    }
  ]
}